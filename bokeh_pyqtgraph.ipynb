{
 "cells": [
  {
   "cell_type": "markdown",
   "id": "1dad965c",
   "metadata": {
    "slideshow": {
     "slide_type": "slide"
    }
   },
   "source": [
    "<div align=\"center\" style=\"font-family: Georgia, serif; color: #555555;\">\n",
    "    <p style=\"font-size: 36px; font-weight: bold; background: -webkit-linear-gradient(45deg, #FF512F, #DD2476, #FF512F); -webkit-background-clip: text; -webkit-text-fill-color: transparent;\">数据可视化技术</p>\n",
    "    <p style=\"font-size: 30px; font-weight: bold; background: -webkit-linear-gradient(45deg, #FF512F, #DD2476, #FF512F); -webkit-background-clip: text; -webkit-text-fill-color: transparent;\">Data Visualization Techniques</p>\n",
    "</div>\n",
    "\n",
    "---\n",
    "</div><div align=\"center\" style=\"font-family: 'Helvetica Neue', Helvetica, Arial, sans-serif;\">\n",
    "    <p>\n",
    "        <strong>主讲人:</strong> 高俊莲 (<a href=\"mailto:junliangao@cumtb.edu.cn\" style=\"color: #E67E22;\">junliangao@cumtb.edu.cn</a>)\n",
    "        - <a href=\"https://glxy.cumtb.edu.cn/info/1133/2192.htm\" target=\"_blank\" style=\"color: #E67E22;\">个人主页</a><br>\n",
    "        <strong>学校:</strong> 中国矿业大学（北京）<br>\n",
    "        <strong>学院:</strong> 管理学院\n",
    "    </p>\n",
    "</div>"
   ]
  },
  {
   "cell_type": "markdown",
   "id": "3eecd9c0",
   "metadata": {
    "slideshow": {
     "slide_type": "slide"
    }
   },
   "source": [
    "# 基于bokeh的数据可视化"
   ]
  },
  {
   "cell_type": "markdown",
   "id": "bde80171",
   "metadata": {
    "slideshow": {
     "slide_type": "slide"
    }
   },
   "source": [
    "## bokeh绘图介绍"
   ]
  },
  {
   "cell_type": "markdown",
   "id": "dcc17b6b",
   "metadata": {
    "slideshow": {
     "slide_type": "slide"
    }
   },
   "source": [
    "### bokeh绘图简介"
   ]
  },
  {
   "cell_type": "markdown",
   "id": "b3c5ca74",
   "metadata": {
    "slideshow": {
     "slide_type": "slide"
    }
   },
   "source": [
    ">Bokeh 是一个Python交互式可视化库，用于在现代Web浏览器上进行展示。  \n",
    "其目标是以D3.js风格提供优雅简洁的图形展示，并与大数据或流数据进行高效交互。"
   ]
  },
  {
   "cell_type": "markdown",
   "id": "a9a327bf",
   "metadata": {
    "slideshow": {
     "slide_type": "slide"
    }
   },
   "source": [
    "**Bokeh有以下特点：**\n",
    "+ Bokeh允许用户通过简单的指令就可以快速创建复杂的统计图。\n",
    "+ Bokeh可以输出到各种媒体中，如HTML、Notebook文档和服务器，如在Python中可输出为HTML的网页形式。\n",
    "+ 用户可以将Bokeh可视化嵌入flask和django程序中。"
   ]
  },
  {
   "cell_type": "markdown",
   "id": "78852c46",
   "metadata": {
    "slideshow": {
     "slide_type": "slide"
    }
   },
   "source": [
    "### bokeh的导入及安装"
   ]
  },
  {
   "cell_type": "markdown",
   "id": "9ab2e524",
   "metadata": {
    "slideshow": {
     "slide_type": "slide"
    }
   },
   "source": [
    "**使用以下命令安装bokeh：**\n",
    ">pip install bokeh\n",
    "\n",
    "**在Python3中的Bokeh绘图库或函数导入语句如下：**\n",
    ">from bokeh.plotting import figure, output_file, show  \n",
    "**其中：**  \n",
    "figure()：创建图形。  \n",
    "output_file()：将图形输出为网页。  \n",
    "show()：显示该图形。"
   ]
  },
  {
   "cell_type": "markdown",
   "id": "fdff5b9e",
   "metadata": {
    "slideshow": {
     "slide_type": "slide"
    }
   },
   "source": [
    "## bokeh绘图实例——创建折线图"
   ]
  },
  {
   "cell_type": "markdown",
   "id": "d423a14e",
   "metadata": {
    "slideshow": {
     "slide_type": "slide"
    }
   },
   "source": [
    "### 绘制简单的折线图"
   ]
  },
  {
   "cell_type": "markdown",
   "id": "80a2b0db",
   "metadata": {
    "slideshow": {
     "slide_type": "slide"
    }
   },
   "source": [
    "**步骤如下：**\n",
    "1. 从 bokeh.plotting 模块导入必要的函数：\n",
    "> from bokeh.plotting import figure, show\n",
    "2. 定义两个包含折线图数据的列表：\n",
    ">x = [1, 2, 3, 4, 5]  \n",
    "y = [6, 7, 2, 4, 5]\n",
    "3. 使用figure()函数创建绘图。传递title、x_axis_label、y_axis_label参数：\n",
    ">p = figure(title=\"Simple line example\", x_axis_label='x', y_axis_label='y')\n",
    "4. 使用line()函数将折线图添加到刚刚创建的绘图中。传递x、y、legend_label、line_width参数：\n",
    ">p.line(x, y, legend_label=\"Temp.\", line_width=2)\n",
    "5. 使用show()函数生成图形和 打开 Web 浏览器以显示生成的HTML文件。\n",
    ">show(p)\n",
    "**折线图的完整代码应如下所示：**"
   ]
  },
  {
   "cell_type": "code",
   "execution_count": 10,
   "id": "8eb7ab3d",
   "metadata": {
    "slideshow": {
     "slide_type": "slide"
    }
   },
   "outputs": [],
   "source": [
    "from bokeh.plotting import figure, show\n",
    "\n",
    "# prepare some data\n",
    "x = [1, 2, 3, 4, 5]\n",
    "y = [6, 7, 2, 4, 5]\n",
    "\n",
    "# create a new plot with a title and axis labels\n",
    "p = figure(title=\"Simple line example\", x_axis_label=\"x\", y_axis_label=\"y\")\n",
    "\n",
    "# add a line renderer with legend and line thickness\n",
    "p.line(x, y, legend_label=\"Temp.\", line_width=2)\n",
    "\n",
    "# show the results\n",
    "show(p)"
   ]
  },
  {
   "cell_type": "markdown",
   "id": "3e99b8e5",
   "metadata": {
    "slideshow": {
     "slide_type": "slide"
    }
   },
   "source": [
    "### 组合多个图形"
   ]
  },
  {
   "cell_type": "markdown",
   "id": "ffd4bc14",
   "metadata": {
    "slideshow": {
     "slide_type": "slide"
    }
   },
   "source": [
    "**使用bokeh.plooting，可以向绘图添加更多字形，步骤如下：**\n",
    "1. 添加更多数据作为其他图表的基础：\n",
    ">x = [1, 2, 3, 4, 5]  \n",
    "y1 = [6, 7, 2, 4, 5]  \n",
    "y2 = [2, 3, 4, 5, 6]  \n",
    "y3 = [4, 5, 5, 7, 2]\n",
    "2. 通过更改函数中figure()参数的字符串来更新绘图的标题：\n",
    ">p = figure(title=\"Multiple line example\", x_axis_label='x', y_axis_label='y')\n",
    "3. 向line()函数添加更多调用：\n",
    ">p.line(x, y1, legend_label=\"Temp.\", color=\"blue\", line_width=2)  \n",
    "p.line(x, y2, legend_label=\"Rate\", color=\"red\", line_width=2)  \n",
    "p.line(x, y3, legend_label=\"Objects\", color=\"green\", line_width=2)    \n",
    "**折线图的完整代码应如下所示：**"
   ]
  },
  {
   "cell_type": "code",
   "execution_count": 11,
   "id": "fe349b81",
   "metadata": {
    "slideshow": {
     "slide_type": "slide"
    }
   },
   "outputs": [],
   "source": [
    "from bokeh.plotting import figure, show\n",
    "\n",
    "# prepare some data\n",
    "x = [1, 2, 3, 4, 5]\n",
    "y1 = [6, 7, 2, 4, 5]\n",
    "y2 = [2, 3, 4, 5, 6]\n",
    "y3 = [4, 5, 5, 7, 2]\n",
    "\n",
    "# create a new plot with a title and axis labels\n",
    "p = figure(title=\"Multiple line example\", x_axis_label=\"x\", y_axis_label=\"y\")\n",
    "\n",
    "# add multiple renderers\n",
    "p.line(x, y1, legend_label=\"Temp.\", color=\"blue\", line_width=2)\n",
    "p.line(x, y2, legend_label=\"Rate\", color=\"red\", line_width=2)\n",
    "p.line(x, y3, legend_label=\"Objects\", color=\"green\", line_width=2)\n",
    "\n",
    "# show the results\n",
    "show(p)"
   ]
  },
  {
   "cell_type": "markdown",
   "id": "3d1a9b3d",
   "metadata": {
    "slideshow": {
     "slide_type": "slide"
    }
   },
   "source": [
    "## bokeh绘图实例——添加和自定义渲染器"
   ]
  },
  {
   "cell_type": "markdown",
   "id": "a00a95f5",
   "metadata": {
    "slideshow": {
     "slide_type": "slide"
    }
   },
   "source": [
    ">使用不同的渲染器函数来创建各种其他类型的图形并自定义字形的外观。"
   ]
  },
  {
   "cell_type": "markdown",
   "id": "85b349ba",
   "metadata": {
    "slideshow": {
     "slide_type": "slide"
    }
   },
   "source": [
    "### 渲染 circles"
   ]
  },
  {
   "cell_type": "markdown",
   "id": "010b8aa0",
   "metadata": {
    "slideshow": {
     "slide_type": "slide"
    }
   },
   "source": [
    "**使用scatter()函数进行渲染：**\n",
    ">p.scatter(x, y3, legend_label=\"Objects\", color=\"yellow\", size=12)"
   ]
  },
  {
   "cell_type": "markdown",
   "id": "3ab13963",
   "metadata": {
    "slideshow": {
     "slide_type": "slide"
    }
   },
   "source": [
    "**将上述代码中的其中一个line()函数替换为scatter()函数：**"
   ]
  },
  {
   "cell_type": "code",
   "execution_count": 12,
   "id": "a85df6de",
   "metadata": {
    "slideshow": {
     "slide_type": "slide"
    }
   },
   "outputs": [],
   "source": [
    "from bokeh.plotting import figure, show\n",
    "\n",
    "# prepare some data\n",
    "x = [1, 2, 3, 4, 5]\n",
    "y1 = [6, 7, 2, 4, 5]\n",
    "y2 = [2, 3, 4, 5, 6]\n",
    "y3 = [4, 5, 5, 7, 2]\n",
    "\n",
    "# create a new plot with a title and axis labels\n",
    "p = figure(title=\"Multiple glyphs example\", x_axis_label=\"x\", y_axis_label=\"y\")\n",
    "\n",
    "# add multiple renderers\n",
    "p.line(x, y1, legend_label=\"Temp.\", color=\"#004488\", line_width=3)\n",
    "p.line(x, y2, legend_label=\"Rate\", color=\"#906c18\", line_width=3)\n",
    "p.scatter(x, y3, legend_label=\"Objects\", color=\"#bb5566\", size=16)\n",
    "\n",
    "# show the results\n",
    "show(p)"
   ]
  },
  {
   "cell_type": "markdown",
   "id": "a0d9162e",
   "metadata": {
    "slideshow": {
     "slide_type": "slide"
    }
   },
   "source": [
    "### 渲染bar"
   ]
  },
  {
   "cell_type": "markdown",
   "id": "5003f5c4",
   "metadata": {
    "slideshow": {
     "slide_type": "slide"
    }
   },
   "source": [
    "**使用vbar()函数进行渲染：**\n",
    ">p.vbar(x=x, top=y2, legend_label=\"Rate\", width=0.5, bottom=0, color=\"red\")"
   ]
  },
  {
   "cell_type": "markdown",
   "id": "d0b10ac0",
   "metadata": {
    "slideshow": {
     "slide_type": "slide"
    }
   },
   "source": [
    "**将vbar()函数添加到上述函数中：**"
   ]
  },
  {
   "cell_type": "code",
   "execution_count": 13,
   "id": "87e877b6",
   "metadata": {
    "slideshow": {
     "slide_type": "slide"
    }
   },
   "outputs": [],
   "source": [
    "from bokeh.plotting import figure, show\n",
    "\n",
    "# prepare some data\n",
    "x = [1, 2, 3, 4, 5]\n",
    "y1 = [6, 7, 2, 4, 5]\n",
    "y2 = [2, 3, 4, 5, 6]\n",
    "y3 = [4, 5, 5, 7, 2]\n",
    "\n",
    "# create a new plot with a title and axis labels\n",
    "p = figure(title=\"Multiple glyphs example\", x_axis_label=\"x\", y_axis_label=\"y\")\n",
    "\n",
    "# add multiple renderers\n",
    "p.line(x, y1, legend_label=\"Temp.\", color=\"blue\", line_width=2)\n",
    "p.vbar(x=x, top=y2, legend_label=\"Rate\", width=0.5, bottom=0, color=\"red\")\n",
    "p.scatter(x, y3, legend_label=\"Objects\", color=\"yellow\", size=12)\n",
    "\n",
    "# show the results\n",
    "show(p)"
   ]
  },
  {
   "cell_type": "markdown",
   "id": "99955e86",
   "metadata": {
    "slideshow": {
     "slide_type": "slide"
    }
   },
   "source": [
    "### 自定义字形属性"
   ]
  },
  {
   "cell_type": "markdown",
   "id": "1b0f8ba2",
   "metadata": {
    "slideshow": {
     "slide_type": "slide"
    }
   },
   "source": [
    "**以scatter()函数为例，该函数可定义圆的颜色或直径等属性：**\n",
    "+ fill_color：圆圈的填充颜色\n",
    "+ fill_alpha：填充颜色的透明度（介于0和1之间的任何值)\n",
    "+ line_color：圆圈轮廓的填充颜色\n",
    "+ size：圆圈的大小（以屏幕单位或数据单位为单位）)\n",
    "+ legend_label：圆圈的图例条目\n",
    "\n",
    "**可使用多种颜色自定义方式：**\n",
    "+ 使用命名的 CSS 颜色（例如，\"firebrick\")\n",
    "+ 使用十六进制值（例如\"#00ff00\")\n",
    "+ 对 RGB 颜色使用3元组（例如，(100, 100, 255)\n",
    "+ 对 RGBA 颜色使用4元组（例如(100, 100, 255, 0.5))"
   ]
  },
  {
   "cell_type": "markdown",
   "id": "6a5eadc6",
   "metadata": {
    "slideshow": {
     "slide_type": "slide"
    }
   },
   "source": [
    "**例：创建带有图例标签“objects”的scatters，并使scatters呈现略微透明，带有红色填充颜色和蓝色轮廓效果：**"
   ]
  },
  {
   "cell_type": "code",
   "execution_count": 14,
   "id": "ee8e8d67",
   "metadata": {
    "slideshow": {
     "slide_type": "slide"
    }
   },
   "outputs": [],
   "source": [
    "from bokeh.plotting import figure, show\n",
    "\n",
    "# prepare some data\n",
    "x = [1, 2, 3, 4, 5]\n",
    "y = [4, 5, 5, 7, 2]\n",
    "\n",
    "# create a new plot with a title and axis labels\n",
    "p = figure(title=\"Glyphs properties example\", x_axis_label=\"x\", y_axis_label=\"y\")\n",
    "\n",
    "# add scatter renderer with additional arguments\n",
    "p.scatter(\n",
    "    x,\n",
    "    y,\n",
    "    marker=\"circle\",\n",
    "    size=80,\n",
    "    legend_label=\"Objects\",\n",
    "    fill_color=\"red\",\n",
    "    fill_alpha=0.5,\n",
    "    line_color=\"blue\",\n",
    ")\n",
    "\n",
    "# show the results\n",
    "show(p)"
   ]
  },
  {
   "cell_type": "markdown",
   "id": "bbb6c3a1",
   "metadata": {
    "slideshow": {
     "slide_type": "slide"
    }
   },
   "source": [
    "### 更改现有字形的属性"
   ]
  },
  {
   "cell_type": "markdown",
   "id": "7c0fd3ad",
   "metadata": {
    "slideshow": {
     "slide_type": "slide"
    }
   },
   "source": [
    "+ 如果要在创建对象后更改属性，可以定义并直接覆盖对象的属性。  "
   ]
  },
  {
   "cell_type": "markdown",
   "id": "2b59706a",
   "metadata": {
    "slideshow": {
     "slide_type": "slide"
    }
   },
   "source": [
    "+ 以上述代码中的scatter为例，定义的scatter填充颜色为red，再将其颜色从red更改为blue。\n",
    "1. 首先需要分配调用scatter()函数时新对象的变量名称（如scatter ）：  \n",
    ">scatter = p.scatter(  \n",
    "      marker=\"circle\",  \n",
    "      x,  \n",
    "      y,  \n",
    "      size=80,  \n",
    "      legend_label=\"Objects\",  \n",
    "      fill_color=\"red\",  \n",
    "      fill_alpha=0.5,  \n",
    "      line_color=\"blue\",  \n",
    "  )\n",
    "2. 使用该变量访问对象的glyph属性并更改其特性：\n",
    ">glyph = scatter.glyph  \n",
    "glyph.fill_color = \"blue\"  \n",
    "**完整代码如下：**"
   ]
  },
  {
   "cell_type": "code",
   "execution_count": 15,
   "id": "b6ac232e",
   "metadata": {
    "slideshow": {
     "slide_type": "slide"
    }
   },
   "outputs": [],
   "source": [
    "from bokeh.plotting import figure, show\n",
    "\n",
    "# prepare some data\n",
    "x = [1, 2, 3, 4, 5]\n",
    "y = [4, 5, 5, 7, 2]\n",
    "\n",
    "# create a new plot with a title and axis labels\n",
    "p = figure(title=\"Glyphs properties example\", x_axis_label=\"x\", y_axis_label=\"y\")\n",
    "\n",
    "# add circle renderer with additional arguments\n",
    "circle = p.scatter(\n",
    "    x,\n",
    "    y,\n",
    "    marker=\"circle\",\n",
    "    size=80,\n",
    "    legend_label=\"Objects\",\n",
    "    fill_color=\"red\",\n",
    "    fill_alpha=0.5,\n",
    "    line_color=\"blue\",\n",
    ")\n",
    "\n",
    "# change color of previously created object's glyph\n",
    "glyph = circle.glyph\n",
    "glyph.fill_color = \"blue\"\n",
    "\n",
    "# show the results\n",
    "show(p)"
   ]
  },
  {
   "cell_type": "markdown",
   "id": "b4c3ec42",
   "metadata": {
    "slideshow": {
     "slide_type": "slide"
    }
   },
   "source": [
    "## 添加图例、文本和批注"
   ]
  },
  {
   "cell_type": "markdown",
   "id": "daa07919",
   "metadata": {
    "slideshow": {
     "slide_type": "slide"
    }
   },
   "source": [
    ">在本节中将添加图例和标题并设置其样式，并通过添加注释来为绘图提供信息。"
   ]
  },
  {
   "cell_type": "markdown",
   "id": "de009f24",
   "metadata": {
    "slideshow": {
     "slide_type": "slide"
    }
   },
   "source": [
    "### 添加图例并设置其样式"
   ]
  },
  {
   "cell_type": "markdown",
   "id": "5f710a85",
   "metadata": {
    "slideshow": {
     "slide_type": "slide"
    }
   },
   "source": [
    "**如果在调用渲染函数时包含属性，Bokeh会自动为绘图添加图例：**\n",
    ">例如以下代码会在绘图中添加一个带有“object”条目的图例： \n",
    "\n",
    ">p.scatter(x, y3, legend_label=\"Objects\")"
   ]
  },
  {
   "cell_type": "markdown",
   "id": "69f47713",
   "metadata": {
    "slideshow": {
     "slide_type": "slide"
    }
   },
   "source": [
    "**使用对象的属性自定义图例**"
   ]
  },
  {
   "cell_type": "code",
   "execution_count": 16,
   "id": "2a5634c3",
   "metadata": {
    "slideshow": {
     "slide_type": "slide"
    }
   },
   "outputs": [],
   "source": [
    "from bokeh.plotting import figure, show\n",
    "\n",
    "# prepare some data\n",
    "x = [1, 2, 3, 4, 5]\n",
    "y1 = [4, 5, 5, 7, 2]\n",
    "y2 = [2, 3, 4, 5, 6]\n",
    "\n",
    "# create a new plot\n",
    "p = figure(title=\"Legend example\")\n",
    "\n",
    "# add circle renderer with legend_label arguments\n",
    "line = p.line(x, y1, legend_label=\"Temp.\", line_color=\"blue\", line_width=2)\n",
    "circle = p.scatter(\n",
    "    x,\n",
    "    y2,\n",
    "    marker=\"circle\",\n",
    "    size=80,\n",
    "    legend_label=\"Objects\",\n",
    "    fill_color=\"red\",\n",
    "    fill_alpha=0.5,\n",
    "    line_color=\"blue\",\n",
    ")\n",
    "\n",
    "# display legend in top left corner (default is top right corner)\n",
    "p.legend.location = \"top_left\"\n",
    "\n",
    "# add a title to your legend\n",
    "p.legend.title = \"Obervations\"\n",
    "\n",
    "# change appearance of legend text\n",
    "p.legend.label_text_font = \"times\"\n",
    "p.legend.label_text_font_style = \"italic\"\n",
    "p.legend.label_text_color = \"navy\"\n",
    "\n",
    "# change border and background of legend\n",
    "p.legend.border_line_width = 3\n",
    "p.legend.border_line_color = \"navy\"\n",
    "p.legend.border_line_alpha = 0.8\n",
    "p.legend.background_fill_color = \"navy\"\n",
    "p.legend.background_fill_alpha = 0.2\n",
    "\n",
    "# show the results\n",
    "show(p)"
   ]
  },
  {
   "cell_type": "markdown",
   "id": "e987781d",
   "metadata": {
    "slideshow": {
     "slide_type": "slide"
    }
   },
   "source": [
    "### 自定义标题"
   ]
  },
  {
   "cell_type": "markdown",
   "id": "1375b577",
   "metadata": {
    "slideshow": {
     "slide_type": "slide"
    }
   },
   "source": [
    "**通过将参数传递给 figure() 函数来自定义标题**\n",
    ">p = figure(title=\"Headline example\")"
   ]
  },
  {
   "cell_type": "markdown",
   "id": "b4cf3536",
   "metadata": {
    "slideshow": {
     "slide_type": "slide"
    }
   },
   "source": [
    "**示例：**"
   ]
  },
  {
   "cell_type": "code",
   "execution_count": 17,
   "id": "d1a73b8a",
   "metadata": {
    "slideshow": {
     "slide_type": "slide"
    }
   },
   "outputs": [],
   "source": [
    "from bokeh.plotting import figure, show\n",
    "\n",
    "# prepare some data\n",
    "x = [1, 2, 3, 4, 5]\n",
    "y = [6, 7, 2, 4, 5]\n",
    "\n",
    "# create new plot\n",
    "p = figure(title=\"Headline example\")\n",
    "\n",
    "# add line renderer with a legend\n",
    "p.line(x, y, legend_label=\"Temp.\", line_width=2)\n",
    "\n",
    "# change headline location to the left\n",
    "p.title_location = \"left\"\n",
    "\n",
    "# change headline text\n",
    "p.title.text = \"Changing headline text example\"\n",
    "\n",
    "# style the headline\n",
    "p.title.text_font_size = \"25px\"\n",
    "p.title.align = \"right\"\n",
    "p.title.background_fill_color = \"darkgrey\"\n",
    "p.title.text_color = \"white\"\n",
    "\n",
    "# show the results\n",
    "show(p)"
   ]
  },
  {
   "cell_type": "markdown",
   "id": "2a0accae",
   "metadata": {
    "slideshow": {
     "slide_type": "slide"
    }
   },
   "source": [
    "### 使用批注"
   ]
  },
  {
   "cell_type": "markdown",
   "id": "c3222c1e",
   "metadata": {
    "slideshow": {
     "slide_type": "slide"
    }
   },
   "source": [
    "**向绘图添加框注解:**\n",
    "1. 首先需要从 bokeh.models 导入类：\n",
    ">from bokeh.models import BoxAnnotation\n",
    "2. 创建对象:\n",
    ">low_box = BoxAnnotation(top=20, fill_alpha=0.2, fill_color=\"#F0E442\")  \n",
    "mid_box = BoxAnnotation(bottom=20, top=80, fill_alpha=0.2, fill_color=\"#009E73\")  \n",
    "high_box = BoxAnnotation(bottom=80, fill_alpha=0.2, fill_color=\"#F0E442\")\n",
    "3. 将对象添加到现有图形中:\n",
    ">p.add_layout(low_box)  \n",
    "p.add_layout(mid_box)  \n",
    "p.add_layout(high_box)  \n",
    "**完整代码如下：**"
   ]
  },
  {
   "cell_type": "code",
   "execution_count": 18,
   "id": "818dacb2",
   "metadata": {
    "slideshow": {
     "slide_type": "slide"
    }
   },
   "outputs": [],
   "source": [
    "import random\n",
    "\n",
    "from bokeh.models import BoxAnnotation\n",
    "from bokeh.plotting import figure, show\n",
    "\n",
    "# generate some data (1-50 for x, random values for y)\n",
    "x = list(range(0, 51))\n",
    "y = random.sample(range(0, 100), 51)\n",
    "\n",
    "# create new plot\n",
    "p = figure(title=\"Box annotation example\")\n",
    "\n",
    "# add line renderer\n",
    "line = p.line(x, y, line_color=\"#000000\", line_width=2)\n",
    "\n",
    "# add box annotations\n",
    "low_box = BoxAnnotation(top=20, fill_alpha=0.2, fill_color=\"#F0E442\")\n",
    "mid_box = BoxAnnotation(bottom=20, top=80, fill_alpha=0.2, fill_color=\"#009E73\")\n",
    "high_box = BoxAnnotation(bottom=80, fill_alpha=0.2, fill_color=\"#F0E442\")\n",
    "\n",
    "# add boxes to existing figure\n",
    "p.add_layout(low_box)\n",
    "p.add_layout(mid_box)\n",
    "p.add_layout(high_box)\n",
    "\n",
    "# show the results\n",
    "show(p)"
   ]
  },
  {
   "cell_type": "markdown",
   "id": "0fd0f76e",
   "metadata": {
    "slideshow": {
     "slide_type": "slide"
    }
   },
   "source": [
    "## 自定义绘图"
   ]
  },
  {
   "cell_type": "markdown",
   "id": "a53ed561",
   "metadata": {
    "slideshow": {
     "slide_type": "slide"
    }
   },
   "source": [
    ">在本节中将自定义整个绘图的外观，包括调整打印大小、更改其线条和颜色以及自定义轴和工具。"
   ]
  },
  {
   "cell_type": "markdown",
   "id": "ddffb869",
   "metadata": {
    "slideshow": {
     "slide_type": "slide"
    }
   },
   "source": [
    "### 使用主题"
   ]
  },
  {
   "cell_type": "markdown",
   "id": "d3a192e2",
   "metadata": {
    "slideshow": {
     "slide_type": "slide"
    }
   },
   "source": [
    "+ 使用主题可以快速更改外观。  \n",
    "+ 主题是一组预定义的设计参数，例如颜色、字体或线条风格。  \n",
    "+ 散景带有五个内置主题：caliber、dark_minimal、light_minimal、night_sky和contrast。 此外可以定义自己的自定义主题。\n",
    "\n",
    "**要使用内置主题，需将要使用的主题名称指定到 document:theme 的属性中。**"
   ]
  },
  {
   "cell_type": "code",
   "execution_count": 22,
   "id": "482d18bb",
   "metadata": {
    "slideshow": {
     "slide_type": "slide"
    }
   },
   "outputs": [],
   "source": [
    "from bokeh.io import curdoc\n",
    "from bokeh.plotting import figure, show\n",
    "\n",
    "# prepare some data\n",
    "x = [1, 2, 3, 4, 5]\n",
    "y = [4, 5, 5, 7, 2]\n",
    "\n",
    "# apply theme to current document\n",
    "curdoc().theme = \"caliber\"#caliber、dark_minimal、light_minimal、night_sky和contrast\n",
    "\n",
    "# create a plot\n",
    "p = figure(sizing_mode=\"stretch_width\", max_width=500, height=250)\n",
    "\n",
    "# add a renderer\n",
    "p.line(x, y)\n",
    "\n",
    "# show the results\n",
    "show(p)"
   ]
  },
  {
   "cell_type": "markdown",
   "id": "0034055b",
   "metadata": {
    "slideshow": {
     "slide_type": "slide"
    }
   },
   "source": [
    "### 调整绘图大小"
   ]
  },
  {
   "cell_type": "markdown",
   "id": "d983b8e7",
   "metadata": {
    "slideshow": {
     "slide_type": "slide"
    }
   },
   "source": [
    "**设置宽度和高度：**\n",
    ">要设置绘图的尺寸，需在调用 figure() 函数时使用以下属性：width height"
   ]
  },
  {
   "cell_type": "code",
   "execution_count": 23,
   "id": "b498c4a6",
   "metadata": {
    "slideshow": {
     "slide_type": "slide"
    }
   },
   "outputs": [],
   "source": [
    "from bokeh.plotting import figure, show\n",
    "\n",
    "# prepare some data\n",
    "x = [1, 2, 3, 4, 5]\n",
    "y = [4, 5, 5, 7, 2]\n",
    "\n",
    "# create a new plot with a specific size\n",
    "p = figure(\n",
    "    title=\"Plot sizing example\",\n",
    "    width=350,\n",
    "    height=250,\n",
    "    x_axis_label=\"x\",\n",
    "    y_axis_label=\"y\",\n",
    ")\n",
    "\n",
    "# add scatter renderer\n",
    "p.scatter(x, y, fill_color=\"red\", size=15)\n",
    "\n",
    "# show the results\n",
    "show(p)"
   ]
  },
  {
   "cell_type": "markdown",
   "id": "5e318c6d",
   "metadata": {
    "slideshow": {
     "slide_type": "slide"
    }
   },
   "source": [
    ">与更改现有字形的设计类似，也可以在创建情节后随时更改其属性："
   ]
  },
  {
   "cell_type": "code",
   "execution_count": 35,
   "id": "abec2924",
   "metadata": {
    "slideshow": {
     "slide_type": "slide"
    }
   },
   "outputs": [],
   "source": [
    "from bokeh.plotting import figure, show\n",
    "\n",
    "# prepare some data\n",
    "x = [1, 2, 3, 4, 5]\n",
    "y = [4, 5, 5, 7, 2]\n",
    "\n",
    "# create a new plot with a specific size\n",
    "p = figure(\n",
    "    title=\"Plot resizing example\",\n",
    "    width=350,\n",
    "    height=250,\n",
    "    x_axis_label=\"x\",\n",
    "    y_axis_label=\"y\",\n",
    ")\n",
    "\n",
    "# change plot size\n",
    "p.width = 450\n",
    "p.height = 150\n",
    "\n",
    "# add scatter renderer\n",
    "p.scatter(x, y, fill_color=\"red\", size=15)\n",
    "\n",
    "# show the results\n",
    "show(p)"
   ]
  },
  {
   "cell_type": "markdown",
   "id": "27e40547",
   "metadata": {
    "slideshow": {
     "slide_type": "slide"
    }
   },
   "source": [
    "### 启用响应式绘图大小"
   ]
  },
  {
   "cell_type": "markdown",
   "id": "764671b4",
   "metadata": {
    "slideshow": {
     "slide_type": "slide"
    }
   },
   "source": [
    "**要使绘图自动适应浏览器或屏幕尺寸，使用属性 :sizing_mode**"
   ]
  },
  {
   "cell_type": "code",
   "execution_count": 24,
   "id": "c28774ab",
   "metadata": {
    "slideshow": {
     "slide_type": "slide"
    }
   },
   "outputs": [],
   "source": [
    "from bokeh.plotting import figure, show\n",
    "\n",
    "# prepare some data\n",
    "x = [1, 2, 3, 4, 5]\n",
    "y = [4, 5, 5, 7, 2]\n",
    "\n",
    "# create a new plot with responsive width\n",
    "p = figure(\n",
    "    title=\"Plot responsive sizing example\",\n",
    "    sizing_mode=\"stretch_width\",\n",
    "    height=250,\n",
    "    x_axis_label=\"x\",\n",
    "    y_axis_label=\"y\",\n",
    ")\n",
    "\n",
    "# add scatter renderer\n",
    "p.scatter(x, y, fill_color=\"red\", size=15)\n",
    "\n",
    "# show the results\n",
    "show(p)"
   ]
  },
  {
   "cell_type": "markdown",
   "id": "974996da",
   "metadata": {
    "slideshow": {
     "slide_type": "slide"
    }
   },
   "source": [
    "### 自定义坐标轴"
   ]
  },
  {
   "cell_type": "markdown",
   "id": "e2823c39",
   "metadata": {
    "slideshow": {
     "slide_type": "slide"
    }
   },
   "source": [
    ">可以设置各种属性来改变绘图中坐标轴的工作方式和外观。"
   ]
  },
  {
   "cell_type": "markdown",
   "id": "fecd1e87",
   "metadata": {
    "slideshow": {
     "slide_type": "slide"
    }
   },
   "source": [
    "**设置坐标轴外观：**\n",
    ">自定义绘图外观的选项包括:\n",
    "> + 为坐标轴设置标签\n",
    "> + 为坐标轴显示的数字设计样式\n",
    "> + 为坐标轴本身定义颜色和其他布局属性"
   ]
  },
  {
   "cell_type": "code",
   "execution_count": 25,
   "id": "7fcd4801",
   "metadata": {
    "slideshow": {
     "slide_type": "slide"
    }
   },
   "outputs": [],
   "source": [
    "from bokeh.plotting import figure, show\n",
    "\n",
    "# prepare some data\n",
    "x = [1, 2, 3, 4, 5]\n",
    "y = [4, 5, 5, 7, 2]\n",
    "\n",
    "# create a plot\n",
    "p = figure(\n",
    "    title=\"Customized axes example\",\n",
    "    sizing_mode=\"stretch_width\",\n",
    "    #max_width=500,\n",
    "    #height=350,\n",
    ")\n",
    "\n",
    "# add a renderer\n",
    "p.scatter(x, y, size=10)\n",
    "\n",
    "# change some things about the x-axis\n",
    "p.xaxis.axis_label = \"Temp\"\n",
    "p.xaxis.axis_line_width = 3\n",
    "p.xaxis.axis_line_color = \"red\"\n",
    "\n",
    "# change some things about the y-axis\n",
    "p.yaxis.axis_label = \"Pressure\"\n",
    "p.yaxis.major_label_text_color = \"orange\"\n",
    "p.yaxis.major_label_orientation = \"vertical\"\n",
    "\n",
    "# change things on all axes\n",
    "p.axis.minor_tick_in = -3\n",
    "p.axis.minor_tick_out = 6\n",
    "\n",
    "# show the results\n",
    "show(p)"
   ]
  },
  {
   "cell_type": "markdown",
   "id": "62b28dbe",
   "metadata": {
    "slideshow": {
     "slide_type": "slide"
    }
   },
   "source": [
    "### 定义轴范围"
   ]
  },
  {
   "cell_type": "markdown",
   "id": "f5d1af25",
   "metadata": {
    "slideshow": {
     "slide_type": "slide"
    }
   },
   "source": [
    ">要手动定义坐标轴的范围，须在调用 figure() 函数时使用该函数或 Plot对象的属性：y_range()y_range()"
   ]
  },
  {
   "cell_type": "code",
   "execution_count": 26,
   "id": "8e269fb1",
   "metadata": {
    "slideshow": {
     "slide_type": "slide"
    }
   },
   "outputs": [],
   "source": [
    "from bokeh.plotting import figure, show\n",
    "\n",
    "# prepare some data\n",
    "x = [1, 2, 3, 4, 5]\n",
    "y = [4, 5, 5, 7, 2]\n",
    "\n",
    "# create a new plot with responsive width\n",
    "p = figure(\n",
    "    y_range=(0, 25),\n",
    "    title=\"Axis range example\",\n",
    "    #sizing_mode=\"stretch_width\",\n",
    "    max_width=500,\n",
    "    height=250,\n",
    ")\n",
    "\n",
    "# add scatter renderer with additional arguments\n",
    "p.scatter(x, y, size=8)\n",
    "\n",
    "# show the results\n",
    "show(p)"
   ]
  },
  {
   "cell_type": "markdown",
   "id": "8f6c2942",
   "metadata": {
    "slideshow": {
     "slide_type": "slide"
    }
   },
   "source": [
    "### 格式化坐标轴刻度"
   ]
  },
  {
   "cell_type": "markdown",
   "id": "9fd6f471",
   "metadata": {
    "slideshow": {
     "slide_type": "slide"
    }
   },
   "source": [
    ">可以使用bokeh的TickFormatter对象来格式化显示坐标轴旁的文本，例如：在Y轴显示货币符号\n"
   ]
  },
  {
   "cell_type": "markdown",
   "id": "d859945a",
   "metadata": {
    "slideshow": {
     "slide_type": "slide"
    }
   },
   "source": [
    "**步骤如下：**\n",
    "1. 从bokeh.models导入NumeralTickFormatter\n",
    ">from bokeh.models import NumeralTickFormatter\n",
    "2. 使用figure()函数创建绘图后，将NumeralTickFormatter分配给绘图Y轴的formatter属性：\n",
    ">p.yaxis[0].formatter = NumeralTickFormatter(format=\"$0.00\")\n",
    "\n",
    "**完整代码如下：**"
   ]
  },
  {
   "cell_type": "code",
   "execution_count": 27,
   "id": "3950d796",
   "metadata": {
    "slideshow": {
     "slide_type": "slide"
    }
   },
   "outputs": [],
   "source": [
    "from bokeh.models import NumeralTickFormatter\n",
    "from bokeh.plotting import figure, show\n",
    "\n",
    "# prepare some data\n",
    "x = [1, 2, 3, 4, 5]\n",
    "y = [4, 5, 5, 7, 2]\n",
    "\n",
    "# create new plot\n",
    "p = figure(\n",
    "    title=\"Tick formatter example\",\n",
    "    sizing_mode=\"stretch_width\",\n",
    "    max_width=500,\n",
    "    height=250,\n",
    ")\n",
    "\n",
    "# format axes ticks\n",
    "p.yaxis[0].formatter = NumeralTickFormatter(format=\"$0.00\")\n",
    "\n",
    "# add renderers\n",
    "p.scatter(x, y, size=8)\n",
    "p.line(x, y, color=\"navy\", line_width=1)\n",
    "\n",
    "# show the results\n",
    "show(p)"
   ]
  },
  {
   "cell_type": "markdown",
   "id": "dc2330e7",
   "metadata": {
    "slideshow": {
     "slide_type": "slide"
    }
   },
   "source": [
    "### 启用对数轴"
   ]
  },
  {
   "cell_type": "markdown",
   "id": "d921abe0",
   "metadata": {
    "slideshow": {
     "slide_type": "slide"
    }
   },
   "source": [
    ">可以完全更改坐标轴类型。使用 y_axis_type=\"log\" 可以切换到对数轴："
   ]
  },
  {
   "cell_type": "code",
   "execution_count": 30,
   "id": "73858b67",
   "metadata": {
    "slideshow": {
     "slide_type": "slide"
    }
   },
   "outputs": [],
   "source": [
    "from bokeh.plotting import figure, show\n",
    "\n",
    "# prepare some data\n",
    "x = [0.1, 0.5, 1.0, 1.5, 2.0, 2.5, 3.0]\n",
    "y0 = [i**2 for i in x]\n",
    "y1 = [10**i for i in x]\n",
    "y2 = [10**(i**2) for i in x]\n",
    "\n",
    "# create a new plot with a logarithmic axis type\n",
    "p = figure(\n",
    "    title=\"Logarithmic axis example\",\n",
    "    sizing_mode=\"stretch_width\",\n",
    "    height=300,\n",
    "    max_width=500,\n",
    "    y_axis_type=\"log\",\n",
    "    y_range=[0.001, 10 ** 11],\n",
    "    x_axis_label=\"sections\",\n",
    "    y_axis_label=\"particles\",\n",
    ")\n",
    "\n",
    "# add some renderers\n",
    "p.line(x, x, legend_label=\"y=x\")\n",
    "p.scatter(x, x, legend_label=\"y=x\", fill_color=\"white\", size=8)\n",
    "p.line(x, y0, legend_label=\"y=x^2\", line_width=3)\n",
    "p.line(x, y1, legend_label=\"y=10^x\", line_color=\"red\")\n",
    "p.scatter(x, y1, legend_label=\"y=10^x\", fill_color=\"red\", line_color=\"red\", size=6)\n",
    "p.line(x, y2, legend_label=\"y=10^x^2\", line_color=\"orange\", line_dash=\"4 4\")\n",
    "\n",
    "# show the results\n",
    "show(p)"
   ]
  },
  {
   "cell_type": "markdown",
   "id": "8edb6439",
   "metadata": {
    "slideshow": {
     "slide_type": "slide"
    }
   },
   "source": [
    "### 启用日期时间坐标轴"
   ]
  },
  {
   "cell_type": "markdown",
   "id": "e16d080a",
   "metadata": {
    "slideshow": {
     "slide_type": "slide"
    }
   },
   "source": [
    ">将 x_axis_type 或 y_axis_type 设置为 datetime，以便在轴上显示日期或时间信息。然后 Bokeh 将创建 DatetimeAxis。\n",
    "\n",
    ">若要格式化 DatetimeAxis 的刻度，使用 DatetimeTickFormatter。"
   ]
  },
  {
   "cell_type": "code",
   "execution_count": 32,
   "id": "c45cc283",
   "metadata": {
    "slideshow": {
     "slide_type": "slide"
    }
   },
   "outputs": [],
   "source": [
    "import random\n",
    "from datetime import datetime, timedelta\n",
    "\n",
    "from bokeh.models import DatetimeTickFormatter, NumeralTickFormatter\n",
    "from bokeh.plotting import figure, show\n",
    "\n",
    "# generate list of dates (today's date in subsequent weeks)\n",
    "dates = [(datetime.now() + timedelta(day * 7)) for day in range(0, 26)]\n",
    "\n",
    "# generate 25 random data points\n",
    "y = random.sample(range(0, 100), 26)\n",
    "\n",
    "# create new plot\n",
    "p = figure(\n",
    "    title=\"datetime axis example\",\n",
    "    x_axis_type=\"datetime\",\n",
    "    sizing_mode=\"stretch_width\",\n",
    "    #max_width=500,\n",
    "    #height=250,\n",
    ")\n",
    "\n",
    "# add renderers\n",
    "p.scatter(dates, y, size=8)\n",
    "p.line(dates, y, color=\"navy\", line_width=1)\n",
    "\n",
    "# format axes ticks\n",
    "p.yaxis[0].formatter = NumeralTickFormatter(format=\"$0.00\")\n",
    "p.xaxis[0].formatter = DatetimeTickFormatter(months=\"%a, %b %d %Y\")#\"%a, %b %d %Y\"、%b %Y\n",
    "\n",
    "# show the results\n",
    "show(p)"
   ]
  },
  {
   "cell_type": "markdown",
   "id": "5836a181",
   "metadata": {
    "slideshow": {
     "slide_type": "slide"
    }
   },
   "source": [
    "## 自定义网格"
   ]
  },
  {
   "cell_type": "markdown",
   "id": "ec6a52a0",
   "metadata": {
    "slideshow": {
     "slide_type": "slide"
    }
   },
   "source": [
    ">要更改网格的外观，需设置 Plot 对象的 xgrid()、ygrid() 和 grid() 方法的各种属性。"
   ]
  },
  {
   "cell_type": "markdown",
   "id": "8ce1a22a",
   "metadata": {
    "slideshow": {
     "slide_type": "slide"
    }
   },
   "source": [
    "### Styling lines"
   ]
  },
  {
   "cell_type": "markdown",
   "id": "41546003",
   "metadata": {
    "slideshow": {
     "slide_type": "slide"
    }
   },
   "source": [
    ">通过设置各种 grid_line 属性，改变网格的水平线和垂直线的外观："
   ]
  },
  {
   "cell_type": "code",
   "execution_count": 36,
   "id": "d18cf02b",
   "metadata": {
    "slideshow": {
     "slide_type": "slide"
    }
   },
   "outputs": [],
   "source": [
    "from bokeh.plotting import figure, show\n",
    "\n",
    "# prepare some data\n",
    "x = [1, 2, 3, 4, 5]\n",
    "y = [4, 5, 5, 7, 2]\n",
    "\n",
    "# create a plot\n",
    "p = figure(\n",
    "    title=\"Customized grid lines example\",\n",
    "    sizing_mode=\"stretch_width\",\n",
    "    #max_width=500,\n",
    "    #height=250,\n",
    ")\n",
    "\n",
    "# add a renderer\n",
    "p.line(x, y, line_color=\"green\", line_width=2)\n",
    "\n",
    "# change things only on the x-grid\n",
    "p.xgrid.grid_line_color = \"red\"\n",
    "p.ygrid.grid_line_color = \"red\"\n",
    "\n",
    "# change things only on the y-grid。[6, 4]表示网格线由6个像素长的实线和4个像素长的空格组成的重复模式。\n",
    "p.ygrid.grid_line_alpha = 0.8\n",
    "p.ygrid.grid_line_dash = [16, 44]\n",
    "\n",
    "# show the results\n",
    "show(p)"
   ]
  },
  {
   "cell_type": "markdown",
   "id": "d373b25e",
   "metadata": {
    "slideshow": {
     "slide_type": "slide"
    }
   },
   "source": [
    "## 使用 bands 和 bounds"
   ]
  },
  {
   "cell_type": "code",
   "execution_count": 37,
   "id": "c92731a7",
   "metadata": {
    "slideshow": {
     "slide_type": "slide"
    }
   },
   "outputs": [],
   "source": [
    "from bokeh.plotting import figure, show\n",
    "\n",
    "# prepare some data\n",
    "x = [1, 2, 3, 4, 5]\n",
    "y = [4, 5, 5, 7, 2]\n",
    "\n",
    "# create a plot\n",
    "p = figure(\n",
    "    title=\"Bands and bonds example\",\n",
    "    sizing_mode=\"stretch_width\",\n",
    "    #max_width=500,\n",
    "    height=450,\n",
    ")\n",
    "\n",
    "# add a renderer\n",
    "p.line(x, y, line_color=\"green\", line_width=2)\n",
    "\n",
    "# add bands to the y-grid\n",
    "p.ygrid.band_fill_color = \"olive\"\n",
    "p.ygrid.band_fill_alpha = 0.1\n",
    "\n",
    "# define vertical bonds\n",
    "p.xgrid.bounds = (2, 4)\n",
    "\n",
    "# show the results\n",
    "show(p)"
   ]
  },
  {
   "cell_type": "markdown",
   "id": "9a0d2121",
   "metadata": {
    "slideshow": {
     "slide_type": "slide"
    }
   },
   "source": [
    "## 设置背景颜色"
   ]
  },
  {
   "cell_type": "markdown",
   "id": "72957be1",
   "metadata": {
    "slideshow": {
     "slide_type": "slide"
    }
   },
   "source": [
    ">要更改 Bokeh 绘制绘图元素的平面外观，需使用绘图对象的各种 fill_color 属性："
   ]
  },
  {
   "cell_type": "code",
   "execution_count": 40,
   "id": "2a2af8fd",
   "metadata": {
    "slideshow": {
     "slide_type": "slide"
    }
   },
   "outputs": [],
   "source": [
    "from bokeh.plotting import figure, show\n",
    "\n",
    "# prepare some data\n",
    "x = [1, 2, 3, 4, 5]\n",
    "y = [4, 5, 5, 7, 2]\n",
    "\n",
    "# create a plot\n",
    "p = figure(\n",
    "    title=\"Background colors example\",\n",
    "    sizing_mode=\"stretch_width\",\n",
    "    max_width=500,\n",
    "    height=250,\n",
    ")\n",
    "\n",
    "# add a renderer\n",
    "p.line(x, y, line_color=\"green\", line_width=2)\n",
    "\n",
    "# change the fill colors\n",
    "p.background_fill_color = (1, 255, 255)\n",
    "p.border_fill_color = (102, 0, 255)\n",
    "p.outline_line_color = (0, 0, 255)\n",
    "\n",
    "# show the results\n",
    "show(p)"
   ]
  },
  {
   "cell_type": "markdown",
   "id": "7f24c9b8",
   "metadata": {
    "slideshow": {
     "slide_type": "slide"
    }
   },
   "source": [
    "## 自定义工具栏"
   ]
  },
  {
   "cell_type": "markdown",
   "id": "b348e259",
   "metadata": {
    "slideshow": {
     "slide_type": "slide"
    }
   },
   "source": [
    "### 定位工具栏"
   ]
  },
  {
   "cell_type": "markdown",
   "id": "d029394b",
   "metadata": {
    "slideshow": {
     "slide_type": "slide"
    }
   },
   "source": [
    "+ 要定义工具栏的位置，须使用 toolbar_location 属性，并选择以下值之一：above、below、left、right\n",
    "\n",
    "+ 在创建图形时，为 toolbar_location 传递一个值：  \n",
    ">p = figure(title=\"Toolbar positioning example\", toolbar_location=\"below\")\n",
    "\n",
    "+ 另一种方法是在创建图形后随时更改 toolbar_location 属性：  \n",
    ">p.toolbar_location = \"below\""
   ]
  },
  {
   "cell_type": "markdown",
   "id": "7a4b2016",
   "metadata": {
    "slideshow": {
     "slide_type": "slide"
    }
   },
   "source": [
    "### 停用和隐藏工具栏"
   ]
  },
  {
   "cell_type": "markdown",
   "id": "cd8da216",
   "metadata": {
    "slideshow": {
     "slide_type": "slide"
    }
   },
   "source": [
    "+ 要完全停用工具栏，将 toolbar_location 设置为 \"None\"。\n",
    ">p.toolbar_location = None\n",
    "+ 要使工具栏自动隐藏，请将自动隐藏设置为 True："
   ]
  },
  {
   "cell_type": "code",
   "execution_count": 41,
   "id": "6adc1322",
   "metadata": {
    "slideshow": {
     "slide_type": "slide"
    }
   },
   "outputs": [],
   "source": [
    "from bokeh.plotting import figure, show\n",
    "\n",
    "# prepare some data\n",
    "x = [1, 2, 3, 4, 5]\n",
    "y = [4, 5, 5, 7, 2]\n",
    "\n",
    "# create a plot\n",
    "p = figure(\n",
    "    title=\"Toolbar autohide example\",\n",
    "    sizing_mode=\"stretch_width\",\n",
    "    max_width=500,\n",
    "    height=250,\n",
    ")\n",
    "\n",
    "# activate toolbar autohide\n",
    "p.toolbar.autohide = True\n",
    "\n",
    "# add a renderer\n",
    "p.line(x, y)\n",
    "\n",
    "# show the results\n",
    "show(p)"
   ]
  },
  {
   "cell_type": "markdown",
   "id": "c1987240",
   "metadata": {
    "slideshow": {
     "slide_type": "slide"
    }
   },
   "source": [
    "**使用工具栏的logo属性可停用 Bokeh logo：**\n",
    ">p.toolbar.logo = None"
   ]
  },
  {
   "cell_type": "code",
   "execution_count": 42,
   "id": "f5925c07",
   "metadata": {
    "slideshow": {
     "slide_type": "slide"
    }
   },
   "outputs": [],
   "source": [
    "from bokeh.plotting import figure, show\n",
    "\n",
    "# prepare some data\n",
    "x = [1, 2, 3, 4, 5]\n",
    "y = [4, 5, 5, 7, 2]\n",
    "\n",
    "# create a plot\n",
    "p = figure(\n",
    "    title=\"Toolbar autohide example\",\n",
    "    sizing_mode=\"stretch_width\",\n",
    "    max_width=500,\n",
    "    height=250,\n",
    ")\n",
    "\n",
    "# activate toolbar autohide\n",
    "p.toolbar.autohide = True\n",
    "p.toolbar.logo = None\n",
    "\n",
    "# add a renderer\n",
    "p.line(x, y)\n",
    "\n",
    "# show the results\n",
    "show(p)"
   ]
  },
  {
   "cell_type": "markdown",
   "id": "c3350311",
   "metadata": {
    "slideshow": {
     "slide_type": "slide"
    }
   },
   "source": [
    "### 自定义可用工具"
   ]
  },
  {
   "cell_type": "markdown",
   "id": "bb2d9a34",
   "metadata": {
    "slideshow": {
     "slide_type": "slide"
    }
   },
   "source": [
    "**要自定义使用哪些工具:**\n",
    "1. 首先需要导入相关工具。例如:\n",
    ">from bokeh.models.tools import BoxZoomTool, ResetTool\n",
    "2. 通过向 figure() 函数传递 tools 属性，定义创建新图形时要使用的工具。\n",
    "3. tools 属性接受一个工具列表。本示例只启用了 BoxZoomTool 和 ResetTool：\n",
    ">p = figure(tools = [BoxZoomTool(), ResetTool()])\n",
    "4. 要在创建图形后随时更改可用工具，请使用 add_tools() 和 remove_tools() 函数。"
   ]
  },
  {
   "cell_type": "code",
   "execution_count": 43,
   "id": "ad4e5f4a",
   "metadata": {
    "slideshow": {
     "slide_type": "slide"
    }
   },
   "outputs": [],
   "source": [
    "from bokeh.models import BoxZoomTool, PanTool, ResetTool\n",
    "from bokeh.plotting import figure, show\n",
    "\n",
    "# prepare some data\n",
    "x = [1, 2, 3, 4, 5]\n",
    "y = [4, 5, 5, 7, 2]\n",
    "\n",
    "# create a plot\n",
    "p = figure(\n",
    "    title=\"Modifying tools example\",\n",
    "    tools=[BoxZoomTool(), ResetTool()],\n",
    "    sizing_mode=\"stretch_width\",\n",
    "    max_width=500,\n",
    "    height=250,\n",
    ")\n",
    "\n",
    "# add an additional pan tool\n",
    "\n",
    "p.add_tools(PanTool(dimensions=\"width\"))\n",
    "\n",
    "# add a renderer\n",
    "p.scatter(x, y, size=10)\n",
    "\n",
    "# show the results\n",
    "show(p)"
   ]
  },
  {
   "cell_type": "markdown",
   "id": "2d4381e7",
   "metadata": {
    "slideshow": {
     "slide_type": "slide"
    }
   },
   "source": [
    "### 添加工具提示"
   ]
  },
  {
   "cell_type": "markdown",
   "id": "7008d011",
   "metadata": {
    "slideshow": {
     "slide_type": "slide"
    }
   },
   "source": [
    "**在 Bokeh 中启用工具提示有几种方法：**\n",
    "1. 从 bokeh.models.tools 中导入 HoverTool 类。\n",
    "2. 在调用 figure() 函数时，将 HoverTool() 包含在传递给工具参数的列表中。\n",
    "3. 在调用 figure() 函数时包含工具提示参数。"
   ]
  },
  {
   "cell_type": "code",
   "execution_count": 44,
   "id": "4f096f1d",
   "metadata": {
    "slideshow": {
     "slide_type": "slide"
    }
   },
   "outputs": [],
   "source": [
    "from bokeh.models import HoverTool\n",
    "from bokeh.plotting import figure, show\n",
    "\n",
    "# prepare some data\n",
    "x = [1, 2, 3, 4, 5]\n",
    "y = [4, 5, 5, 7, 2]\n",
    "\n",
    "p = figure(\n",
    "    y_range=(0, 10),\n",
    "    toolbar_location=None,\n",
    "    tools=[HoverTool()],\n",
    "    tooltips=\"Data point @x has the value @y\",\n",
    "    sizing_mode=\"stretch_width\",\n",
    "    max_width=500,\n",
    "    height=250,\n",
    ")\n",
    "\n",
    "# add renderers\n",
    "p.scatter(x, y, size=10)\n",
    "p.line(x, y, line_width=2)\n",
    "\n",
    "# show the results\n",
    "show(p)"
   ]
  },
  {
   "cell_type": "markdown",
   "id": "33f4ace3",
   "metadata": {
    "slideshow": {
     "slide_type": "slide"
    }
   },
   "source": [
    "## 将字形属性矢量化"
   ]
  },
  {
   "cell_type": "markdown",
   "id": "85e75beb",
   "metadata": {
    "slideshow": {
     "slide_type": "slide"
    }
   },
   "source": [
    "### 颜色矢量化"
   ]
  },
  {
   "cell_type": "markdown",
   "id": "3de2db20",
   "metadata": {
    "slideshow": {
     "slide_type": "slide"
    }
   },
   "source": [
    ">要根据变量中的值改变颜色，可将包含颜色信息的变量传递给 fill_color 属性："
   ]
  },
  {
   "cell_type": "code",
   "execution_count": 45,
   "id": "f2657b5d",
   "metadata": {
    "slideshow": {
     "slide_type": "slide"
    }
   },
   "outputs": [],
   "source": [
    "import random\n",
    "\n",
    "from bokeh.plotting import figure, show\n",
    "\n",
    "# generate some data (1-10 for x, random values for y)\n",
    "x = list(range(0, 26))\n",
    "y = random.sample(range(0, 100), 26)\n",
    "\n",
    "# generate list of rgb hex colors in relation to y\n",
    "colors = [f\"#{255:02x}{int((value * 255) / 100):02x}{255:02x}\" for value in y]\n",
    "\n",
    "# create new plot\n",
    "p = figure(\n",
    "    title=\"Vectorized colors example\",\n",
    "    sizing_mode=\"stretch_width\",\n",
    "    max_width=500,\n",
    "    height=250,\n",
    ")\n",
    "\n",
    "# add line and scatter renderers\n",
    "p.line(x, y, line_color=\"blue\", line_width=1)\n",
    "p.scatter(x, y, fill_color=colors, line_color=\"blue\", size=15)\n",
    "\n",
    "# show the results\n",
    "show(p)"
   ]
  },
  {
   "cell_type": "markdown",
   "id": "297ad441",
   "metadata": {
    "slideshow": {
     "slide_type": "slide"
    }
   },
   "source": [
    "### 将颜色和尺寸矢量化"
   ]
  },
  {
   "cell_type": "markdown",
   "id": "92fdb6fb",
   "metadata": {
    "slideshow": {
     "slide_type": "slide"
    }
   },
   "source": [
    ">要创建与数据相关的颜色和大小的曲线图，可将相同的原理应用于呈现器的半径参数："
   ]
  },
  {
   "cell_type": "code",
   "execution_count": 47,
   "id": "6a55961c",
   "metadata": {
    "slideshow": {
     "slide_type": "slide"
    }
   },
   "outputs": [],
   "source": [
    "import numpy as np\n",
    "\n",
    "from bokeh.plotting import figure, show\n",
    "\n",
    "# generate some data\n",
    "N = 1000\n",
    "x = np.random.random(size=N) * 100\n",
    "y = np.random.random(size=N) * 100\n",
    "\n",
    "# generate radii and colors based on data\n",
    "radii = y / 100 * 2\n",
    "colors = [f\"#{255:02x}{int((value * 255) / 100):02x}{255:02x}\" for value in y]\n",
    "\n",
    "# create a new plot with a specific size\n",
    "p = figure(\n",
    "    title=\"Vectorized colors and radii example\",\n",
    "    sizing_mode=\"stretch_width\",\n",
    "    max_width=1500,\n",
    "    height=650,\n",
    ")\n",
    "\n",
    "# add circle renderer\n",
    "p.circle(\n",
    "    x,\n",
    "    y,\n",
    "    radius=radii,\n",
    "    fill_color=colors,\n",
    "    fill_alpha=0.6,\n",
    "    line_color=\"lightgrey\",\n",
    ")\n",
    "\n",
    "# show the results\n",
    "show(p)"
   ]
  },
  {
   "cell_type": "markdown",
   "id": "f45cf283",
   "metadata": {
    "slideshow": {
     "slide_type": "slide"
    }
   },
   "source": [
    "### 调色板的色彩映射"
   ]
  },
  {
   "cell_type": "markdown",
   "id": "c18f45d0",
   "metadata": {
    "slideshow": {
     "slide_type": "slide"
    }
   },
   "source": [
    ">Bokeh 提供了几十种预定义的调色板，可以用它们将颜色映射到数据上。其中包括来自 Brewer、D3 或 Matplotlib 的调色板。有关所有可用调色板的列表，请参见调色板。\n",
    "\n",
    "1. 首先，使用 linear_cmap() 函数为数据创建颜色映射。该函数所需的属性如下:\n",
    ">field：要映射颜色的数据序列  \n",
    "调色板：要使用的调色板  \n",
    "low：要映射颜色的最低值  \n",
    "high：要映射颜色的最高值  \n",
    "\n",
    "2. 然后将颜色映射器分配给呈现器的颜色参数："
   ]
  },
  {
   "cell_type": "code",
   "execution_count": 65,
   "id": "796378f3",
   "metadata": {
    "slideshow": {
     "slide_type": "slide"
    }
   },
   "outputs": [],
   "source": [
    "from bokeh.io import show\n",
    "from bokeh.palettes import Turbo256\n",
    "from bokeh.plotting import figure\n",
    "from bokeh.transform import linear_cmap\n",
    "\n",
    "# generate data\n",
    "x = list(range(-32, 33))\n",
    "y = [i**2 for i in x]\n",
    "\n",
    "# create linear color mapper\n",
    "mapper = linear_cmap(field_name=\"y\", palette=Turbo256, low=min(y), high=max(y))\n",
    "\n",
    "# create plot\n",
    "p = figure(width=500, height=250)\n",
    "\n",
    "# create circle renderer with color mapper\n",
    "p.scatter(x, y, color=mapper, size=10)\n",
    "\n",
    "show(p)\n"
   ]
  },
  {
   "cell_type": "markdown",
   "id": "585698c3",
   "metadata": {
    "slideshow": {
     "slide_type": "slide"
    }
   },
   "source": [
    "## 组合地块"
   ]
  },
  {
   "cell_type": "markdown",
   "id": "1af17732",
   "metadata": {
    "slideshow": {
     "slide_type": "slide"
    }
   },
   "source": [
    "### 创建行、列和网格"
   ]
  },
  {
   "cell_type": "markdown",
   "id": "8b541fde",
   "metadata": {
    "slideshow": {
     "slide_type": "slide"
    }
   },
   "source": [
    ">要将多个绘图合并为水平行布局，首先需要导入 row。然后在调用 show() 时使用 row() 函数："
   ]
  },
  {
   "cell_type": "code",
   "execution_count": 49,
   "id": "30cb88a4",
   "metadata": {
    "slideshow": {
     "slide_type": "slide"
    }
   },
   "outputs": [],
   "source": [
    "from bokeh.layouts import row\n",
    "from bokeh.plotting import figure, show\n",
    "\n",
    "# prepare some data\n",
    "x = list(range(11))\n",
    "y0 = x\n",
    "y1 = [10 - i for i in x]\n",
    "y2 = [abs(i - 5) for i in x]\n",
    "\n",
    "# create three plots with one renderer each\n",
    "s1 = figure(width=250, height=250, background_fill_color=\"#fafafa\")\n",
    "s1.scatter(x, y0, marker=\"circle\", size=12, color=\"#53777a\", alpha=0.8)\n",
    "\n",
    "s2 = figure(width=250, height=250, background_fill_color=\"#fafafa\")\n",
    "s2.scatter(x, y1, marker=\"triangle\", size=12, color=\"#c02942\", alpha=0.8)\n",
    "\n",
    "s3 = figure(width=250, height=250, background_fill_color=\"#fafafa\")\n",
    "s3.scatter(x, y2, marker=\"square\", size=12, color=\"#d95b43\", alpha=0.8)\n",
    "\n",
    "# put the results in a row and show\n",
    "show(row(s1, s2, s3))"
   ]
  },
  {
   "cell_type": "markdown",
   "id": "6fff7f51",
   "metadata": {
    "slideshow": {
     "slide_type": "slide"
    }
   },
   "source": [
    "### 定义尺寸调整行为"
   ]
  },
  {
   "cell_type": "markdown",
   "id": "1b45ef17",
   "metadata": {
    "slideshow": {
     "slide_type": "slide"
    }
   },
   "source": [
    ">可以使用带有附加参数的函数 row()、column() 和 gridplot()，来定义 Bokeh 如何缩放各个绘图。有关 Bokeh 支持的所有缩放模式的列表，请参阅 sizing_mode。  \n",
    "\n",
    ">例如：要使一行中的所有图都响应地填满浏览器窗口的可用宽度，请将 scale_width 指定为 sizing_mode："
   ]
  },
  {
   "cell_type": "code",
   "execution_count": 66,
   "id": "da1d1666",
   "metadata": {
    "slideshow": {
     "slide_type": "slide"
    }
   },
   "outputs": [],
   "source": [
    "from bokeh.layouts import row\n",
    "from bokeh.plotting import figure, show\n",
    "\n",
    "# prepare some data\n",
    "x = list(range(11))\n",
    "y0 = x\n",
    "y1 = [10 - i for i in x]\n",
    "y2 = [abs(i - 5) for i in x]\n",
    "\n",
    "# create three plots with one renderer each\n",
    "s1 = figure(width=250, height=250, background_fill_color=\"#fafafa\")\n",
    "s1.scatter(x, y0, marker=\"circle\", size=12, color=\"#53777a\", alpha=0.8)\n",
    "\n",
    "s2 = figure(width=250, height=250, background_fill_color=\"#fafafa\")\n",
    "s2.scatter(x, y1, marker=\"triangle\", size=12, color=\"#c02942\", alpha=0.8)\n",
    "\n",
    "s3 = figure(width=250, height=250, background_fill_color=\"#fafafa\")\n",
    "s3.scatter(x, y2, marker=\"square\", size=12, color=\"#d95b43\", alpha=0.8)\n",
    "\n",
    "# put the results in a row that automatically adjusts\n",
    "# to the browser window's width\n",
    "show(row(children=[s1, s2, s3], sizing_mode=\"scale_width\"))"
   ]
  },
  {
   "cell_type": "markdown",
   "id": "ccd1db27",
   "metadata": {
    "slideshow": {
     "slide_type": "slide"
    }
   },
   "source": [
    "## 显示和导出"
   ]
  },
  {
   "cell_type": "markdown",
   "id": "7195925f",
   "metadata": {
    "slideshow": {
     "slide_type": "slide"
    }
   },
   "source": [
    "### 创建独立的 HTML 文件"
   ]
  },
  {
   "cell_type": "markdown",
   "id": "ca2817c9",
   "metadata": {
    "slideshow": {
     "slide_type": "slide"
    }
   },
   "source": [
    ">到目前为止，所有示例都使用 show() 函数将可视化效果保存到 HTML 文件中。该 HTML 文件包含显示图表所需的所有信息  \n",
    ">要自定义 Bokeh 为您的可视化创建的文件，请导入并调用 output_file() 函数。 output_file() 接受各种与文件相关的参数。例如:  \n",
    "+ filename：HTML 文件的文件名  \n",
    "+ title：文件标题（在 HTML 的 title 标记中使用）\n"
   ]
  },
  {
   "cell_type": "markdown",
   "id": "d6b7029c",
   "metadata": {
    "slideshow": {
     "slide_type": "slide"
    }
   },
   "source": [
    ">如果不使用 output_file() 函数定义自定义文件名，Bokeh 默认使用当前运行的 Python 脚本的文件名作为 HTML 输出的文件名。如果脚本文件名不可用（例如在 Jupyter 笔记本中），Bokeh 会随机生成一个文件名。\n",
    "\n",
    ">调用 show() 函数时，Bokeh 会创建 HTML 文件。此函数还会自动打开网页浏览器以显示 HTML 文件。\n",
    "\n",
    ">如果只想让 Bokeh 生成文件而不想在网络浏览器中打开文件，请使用 save() 函数。\n",
    "\n",
    ">在使用之前，需要导入 save() 和 output_file() 函数，就像导入 show() 函数一样。"
   ]
  },
  {
   "cell_type": "code",
   "execution_count": 42,
   "id": "36a484aa",
   "metadata": {
    "slideshow": {
     "slide_type": "slide"
    }
   },
   "outputs": [
    {
     "data": {
      "text/plain": [
       "'/Users/junliangao/Visualization/custom_filename.html'"
      ]
     },
     "execution_count": 42,
     "metadata": {},
     "output_type": "execute_result"
    }
   ],
   "source": [
    "from bokeh.plotting import figure, output_file, save\n",
    "\n",
    "# prepare some data\n",
    "x = [1, 2, 3, 4, 5]\n",
    "y = [4, 5, 5, 7, 2]\n",
    "\n",
    "# set output to static HTML file\n",
    "output_file(filename=\"custom_filename.html\", title=\"Static HTML file\")\n",
    "\n",
    "# create a new plot with a specific size\n",
    "p = figure(sizing_mode=\"stretch_width\", max_width=500, height=250)\n",
    "\n",
    "# add a scatter renderer\n",
    "p.scatter(x, y, fill_color=\"red\", size=15)\n",
    "\n",
    "# save the results to a file\n",
    "save(p)"
   ]
  },
  {
   "cell_type": "markdown",
   "id": "5dcfee42",
   "metadata": {
    "slideshow": {
     "slide_type": "slide"
    }
   },
   "source": [
    "### 在 Jupyter 笔记本中显示"
   ]
  },
  {
   "cell_type": "markdown",
   "id": "38aa6173",
   "metadata": {
    "slideshow": {
     "slide_type": "slide"
    }
   },
   "source": [
    "**如果使用 Jupyter 笔记本，请在代码中调用 Bokeh 的 output_notebook() 函数。然后，使用 show() 函数直接在笔记本中显示可视化效果：**\n",
    ">output_notebook()  \n",
    "show()\n"
   ]
  },
  {
   "cell_type": "markdown",
   "id": "c5d0ff1d",
   "metadata": {
    "slideshow": {
     "slide_type": "slide"
    }
   },
   "source": [
    "### 导出 PNG 文件"
   ]
  },
  {
   "cell_type": "markdown",
   "id": "6e9ae295",
   "metadata": {
    "slideshow": {
     "slide_type": "slide"
    }
   },
   "source": [
    "**使用此命令在 conda 环境中安装带有 geckodriver 和 Firefox 的 Selenium：**\n",
    ">conda install selenium geckodriver firefox -c conda-forge"
   ]
  },
  {
   "cell_type": "markdown",
   "id": "19db38f6",
   "metadata": {
    "slideshow": {
     "slide_type": "slide"
    }
   },
   "source": [
    "**安装完成后，可以使用 export_png() 函数将绘图导出为 PNG 文件：**"
   ]
  },
  {
   "cell_type": "code",
   "execution_count": 10,
   "id": "3f2d4370",
   "metadata": {},
   "outputs": [
    {
     "data": {
      "text/html": [
       "<div style=\"display: table;\"><div style=\"display: table-row;\"><div style=\"display: table-cell;\"><b title=\"bokeh.models.renderers.glyph_renderer.GlyphRenderer\">GlyphRenderer</b>(</div><div style=\"display: table-cell;\">id&nbsp;=&nbsp;'p1170', <span id=\"p1174\" style=\"cursor: pointer;\">&hellip;)</span></div></div><div class=\"p1173\" style=\"display: none;\"><div style=\"display: table-cell;\"></div><div style=\"display: table-cell;\">context_menu&nbsp;=&nbsp;None,</div></div><div class=\"p1173\" style=\"display: none;\"><div style=\"display: table-cell;\"></div><div style=\"display: table-cell;\">coordinates&nbsp;=&nbsp;None,</div></div><div class=\"p1173\" style=\"display: none;\"><div style=\"display: table-cell;\"></div><div style=\"display: table-cell;\">data_source&nbsp;=&nbsp;ColumnDataSource(id='p1164', ...),</div></div><div class=\"p1173\" style=\"display: none;\"><div style=\"display: table-cell;\"></div><div style=\"display: table-cell;\">glyph&nbsp;=&nbsp;Scatter(id='p1167', ...),</div></div><div class=\"p1173\" style=\"display: none;\"><div style=\"display: table-cell;\"></div><div style=\"display: table-cell;\">group&nbsp;=&nbsp;None,</div></div><div class=\"p1173\" style=\"display: none;\"><div style=\"display: table-cell;\"></div><div style=\"display: table-cell;\">hover_glyph&nbsp;=&nbsp;None,</div></div><div class=\"p1173\" style=\"display: none;\"><div style=\"display: table-cell;\"></div><div style=\"display: table-cell;\">js_event_callbacks&nbsp;=&nbsp;{},</div></div><div class=\"p1173\" style=\"display: none;\"><div style=\"display: table-cell;\"></div><div style=\"display: table-cell;\">js_property_callbacks&nbsp;=&nbsp;{},</div></div><div class=\"p1173\" style=\"display: none;\"><div style=\"display: table-cell;\"></div><div style=\"display: table-cell;\">level&nbsp;=&nbsp;'glyph',</div></div><div class=\"p1173\" style=\"display: none;\"><div style=\"display: table-cell;\"></div><div style=\"display: table-cell;\">muted&nbsp;=&nbsp;False,</div></div><div class=\"p1173\" style=\"display: none;\"><div style=\"display: table-cell;\"></div><div style=\"display: table-cell;\">muted_glyph&nbsp;=&nbsp;Scatter(id='p1169', ...),</div></div><div class=\"p1173\" style=\"display: none;\"><div style=\"display: table-cell;\"></div><div style=\"display: table-cell;\">name&nbsp;=&nbsp;None,</div></div><div class=\"p1173\" style=\"display: none;\"><div style=\"display: table-cell;\"></div><div style=\"display: table-cell;\">nonselection_glyph&nbsp;=&nbsp;Scatter(id='p1168', ...),</div></div><div class=\"p1173\" style=\"display: none;\"><div style=\"display: table-cell;\"></div><div style=\"display: table-cell;\">propagate_hover&nbsp;=&nbsp;False,</div></div><div class=\"p1173\" style=\"display: none;\"><div style=\"display: table-cell;\"></div><div style=\"display: table-cell;\">selection_glyph&nbsp;=&nbsp;'auto',</div></div><div class=\"p1173\" style=\"display: none;\"><div style=\"display: table-cell;\"></div><div style=\"display: table-cell;\">subscribed_events&nbsp;=&nbsp;PropertyValueSet(),</div></div><div class=\"p1173\" style=\"display: none;\"><div style=\"display: table-cell;\"></div><div style=\"display: table-cell;\">syncable&nbsp;=&nbsp;True,</div></div><div class=\"p1173\" style=\"display: none;\"><div style=\"display: table-cell;\"></div><div style=\"display: table-cell;\">tags&nbsp;=&nbsp;[],</div></div><div class=\"p1173\" style=\"display: none;\"><div style=\"display: table-cell;\"></div><div style=\"display: table-cell;\">view&nbsp;=&nbsp;CDSView(id='p1171', ...),</div></div><div class=\"p1173\" style=\"display: none;\"><div style=\"display: table-cell;\"></div><div style=\"display: table-cell;\">visible&nbsp;=&nbsp;True,</div></div><div class=\"p1173\" style=\"display: none;\"><div style=\"display: table-cell;\"></div><div style=\"display: table-cell;\">x_range_name&nbsp;=&nbsp;'default',</div></div><div class=\"p1173\" style=\"display: none;\"><div style=\"display: table-cell;\"></div><div style=\"display: table-cell;\">y_range_name&nbsp;=&nbsp;'default')</div></div></div>\n",
       "<script>\n",
       "(function() {\n",
       "  let expanded = false;\n",
       "  const ellipsis = document.getElementById(\"p1174\");\n",
       "  ellipsis.addEventListener(\"click\", function() {\n",
       "    const rows = document.getElementsByClassName(\"p1173\");\n",
       "    for (let i = 0; i < rows.length; i++) {\n",
       "      const el = rows[i];\n",
       "      el.style.display = expanded ? \"none\" : \"table-row\";\n",
       "    }\n",
       "    ellipsis.innerHTML = expanded ? \"&hellip;)\" : \"&lsaquo;&lsaquo;&lsaquo;\";\n",
       "    expanded = !expanded;\n",
       "  });\n",
       "})();\n",
       "</script>\n"
      ],
      "text/plain": [
       "GlyphRenderer(id='p1170', ...)"
      ]
     },
     "execution_count": 10,
     "metadata": {},
     "output_type": "execute_result"
    }
   ],
   "source": [
    "from bokeh.plotting import figure\n",
    "from bokeh.io import export_png, export_svg\n",
    "\n",
    "# 创建图表\n",
    "p = figure(width=400, height=400)\n",
    "p.scatter([1, 2, 3, 4, 5], [6, 7, 2, 4, 5], size=15)\n",
    "\n",
    "# 保存为 PNG 文件\n",
    "export_png(p, filename=\"chart.png\")\n",
    "\n",
    "# 保存为 SVG 文件\n",
    "export_svg(p, filename=\"chart.svg\")"
   ]
  },
  {
   "cell_type": "markdown",
   "id": "fb861812",
   "metadata": {
    "slideshow": {
     "slide_type": "slide"
    }
   },
   "source": [
    "## 提供和筛选数据"
   ]
  },
  {
   "cell_type": "markdown",
   "id": "af26a0f9",
   "metadata": {
    "slideshow": {
     "slide_type": "slide"
    }
   },
   "source": [
    "### 使用 ColumnDataSource"
   ]
  },
  {
   "cell_type": "markdown",
   "id": "627c7c37",
   "metadata": {
    "slideshow": {
     "slide_type": "slide"
    }
   },
   "source": [
    "**创建ColumnDataSource：**\n",
    "\n",
    "1. 导入 ColumnDataSource。\n",
    "2.  创建一个包含数据的 dict： dict 的键是列名（字符串）。dict 的值是数据列表或数组。\n",
    "3. 将 dict 作为数据参数传递给 ColumnDataSource：\n",
    "4. 就可以将 ColumnDataSource 用作呈现器的源代码。"
   ]
  },
  {
   "cell_type": "code",
   "execution_count": 51,
   "id": "0da14952",
   "metadata": {
    "slideshow": {
     "slide_type": "slide"
    }
   },
   "outputs": [],
   "source": [
    "from bokeh.plotting import figure, show\n",
    "from bokeh.models import ColumnDataSource\n",
    "\n",
    "# create dict as basis for ColumnDataSource\n",
    "data = {'x_values': [1, 2, 3, 4, 5],\n",
    "        'y_values': [6, 7, 2, 3, 6]}\n",
    "\n",
    "# create ColumnDataSource based on dict\n",
    "source = ColumnDataSource(data=data)\n",
    "\n",
    "# create a plot and renderer with ColumnDataSource data\n",
    "p = figure(height=250)\n",
    "p.scatter(x='x_values', y='y_values', size=20, source=source)\n",
    "show(p)"
   ]
  },
  {
   "cell_type": "markdown",
   "id": "4e0814e6",
   "metadata": {
    "slideshow": {
     "slide_type": "slide"
    }
   },
   "source": [
    "### 转换 pandas 数据"
   ]
  },
  {
   "cell_type": "markdown",
   "id": "cb076a25",
   "metadata": {
    "slideshow": {
     "slide_type": "slide"
    }
   },
   "source": [
    ">要使用 pandas DataFrame 中的数据，请将 pandas 数据传递给 ColumnDataSource：  \n",
    "**source = ColumnDataSource(df)**"
   ]
  },
  {
   "cell_type": "markdown",
   "id": "d2416e5f",
   "metadata": {
    "slideshow": {
     "slide_type": "slide"
    }
   },
   "source": [
    "### 过滤数据"
   ]
  },
  {
   "cell_type": "markdown",
   "id": "233501ff",
   "metadata": {
    "slideshow": {
     "slide_type": "slide"
    }
   },
   "source": [
    "**filter：过滤器模型的实例**\n",
    "\n",
    ">最简单的过滤器是 IndexFilter。IndexFilter 使用索引位置列表，并创建一个只包含位于这些索引位置的数据点的视图。  \n",
    "例如，如果ColumnDataSource 包含一个由五个值组成的列表，而应用的 IndexFilter 是 [0,2,4]，那么生成的视图只包含原始列表中的第一个、第三个和第五个值："
   ]
  },
  {
   "cell_type": "code",
   "execution_count": 52,
   "id": "6c77c636",
   "metadata": {
    "slideshow": {
     "slide_type": "slide"
    }
   },
   "outputs": [],
   "source": [
    "from bokeh.layouts import gridplot\n",
    "from bokeh.models import CDSView, ColumnDataSource, IndexFilter\n",
    "from bokeh.plotting import figure, show\n",
    "\n",
    "# create ColumnDataSource from a dict\n",
    "source = ColumnDataSource(data=dict(x=[1, 2, 3, 4, 5], y=[1, 2, 3, 4, 5]))\n",
    "\n",
    "# create a view using an IndexFilter with the index positions [0, 2, 4]\n",
    "view = CDSView(filter=IndexFilter([0, 2, 4]))\n",
    "\n",
    "# setup tools\n",
    "tools = [\"box_select\", \"hover\", \"reset\"]\n",
    "\n",
    "# create a first plot with all data in the ColumnDataSource\n",
    "p = figure(height=300, width=300, tools=tools)\n",
    "p.scatter(x=\"x\", y=\"y\", size=10, hover_color=\"red\", source=source)\n",
    "\n",
    "# create a second plot with a subset of ColumnDataSource, based on view\n",
    "p_filtered = figure(height=300, width=300, tools=tools)\n",
    "p_filtered.scatter(x=\"x\", y=\"y\", size=10, hover_color=\"red\", source=source, view=view)\n",
    "\n",
    "# show both plots next to each other in a gridplot layout\n",
    "show(gridplot([[p, p_filtered]]))"
   ]
  },
  {
   "cell_type": "markdown",
   "id": "95caac56",
   "metadata": {
    "slideshow": {
     "slide_type": "slide"
    }
   },
   "source": [
    "## 使用部件"
   ]
  },
  {
   "cell_type": "markdown",
   "id": "b37da381",
   "metadata": {
    "slideshow": {
     "slide_type": "slide"
    }
   },
   "source": [
    "### 添加部件"
   ]
  },
  {
   "cell_type": "markdown",
   "id": "cbec9405",
   "metadata": {
    "slideshow": {
     "slide_type": "slide"
    }
   },
   "source": [
    "**此 Bokeh 文档结合了一个情节和三个部件：**\n",
    "\n",
    "+ 一个 Div 部件，用于显示 HTML 文本\n",
    "+ 用于选择数值的 Spinner 部件\n",
    "+ 用于调整范围的 RangeSlider 部件"
   ]
  },
  {
   "cell_type": "markdown",
   "id": "31b1b1d7",
   "metadata": {
    "slideshow": {
     "slide_type": "slide"
    }
   },
   "source": [
    "**请按照以下步骤重现上述示例：**\n",
    "1. 从 bokeh.models 中导入 Div、RangeSlider 和 Spinner 部件：\n",
    ">from bokeh.models import Div, RangeSlider, Spinner\n",
    "2. 设置数据、图形和渲染器：\n",
    ">x = [1, 2, 3, 4, 5, 6, 7, 8, 9, 10]  \n",
    "y = [4, 5, 5, 7, 2, 6, 4, 9, 1, 3]  \n",
    "p = figure(x_range=(1,9), width=500, height=250)  \n",
    "points = p.scatter(x=x, y=y, size=30, fill_color=\"#21a7df\")  \n",
    "3. 创建一个 Div 对象，并将一些 HTML 代码作为字符串传给它：\n",
    ">div = Div(  \n",
    "    text=\"\"\"\n",
    "    Select the circle's size using this control element: \"\"\",  \n",
    "    width=200,  \n",
    "    height=30,  \n",
    ")\n",
    "4. 创建一个 Spinner 对象：\n",
    ">spinner = Spinner(  \n",
    "    title=\"Circle size\",  # a string to display above the widget  \n",
    "    low=0,  # the lowest possible number to pick  \n",
    "    high=60,  # the highest possible number to pick  \n",
    "    step=5,  # the increments by which the number can be adjusted  \n",
    "    value=points.glyph.size,  # the initial value to display in the widget  \n",
    "    width=200,  #  the width of the widget in pixels  \n",
    ")\n",
    "5. 要将旋转器生成的值链接到字形的大小属性，请使用 js_link()函数。此函数使用 JavaScript 以交互方式链接两个 Bokeh 模型:\n",
    ">spinner.js_link(\"value\", points.glyph, \"size\")\n",
    "6. 创建 RangeSlider 对象：\n",
    ">range_slider = RangeSlider(  \n",
    "    title=\"Adjust x-axis range\", # a title to display above the slider  \n",
    "    start=0,  # set the minimum value for the slider  \n",
    "    end=10,  # set the maximum value for the slider  \n",
    "    step=1,  # increments for the slider  \n",
    "    value=(p.x_range.start, p.x_range.end),  # initial values for slider  \n",
    ")\n",
    "7. 要将 RangeSlider 生成的值链接到现有绘图，请再次使用 js_link() 函数。不过，需要使用 js_link() 函数的 attr_selector，告诉 Bokeh 将 Tuple 的哪一部分赋值给曲线图 x 轴的起点或终点：\n",
    ">range_slider.js_link(\"value\", p.x_range, \"start\", attr_selector=0)  \n",
    "range_slider.js_link(\"value\", p.x_range, \"end\", attr_selector=1)\n",
    "8. 创建包含仪表盘所有元素的布局，并在浏览器中显示：\n",
    ">layout = layout([  \n",
    "    [div, spinner],  \n",
    "    [range_slider],  \n",
    "    [p],  \n",
    "])\n",
    "show(layout)  \n",
    "**完整代码如下：**"
   ]
  },
  {
   "cell_type": "code",
   "execution_count": 53,
   "id": "06457234",
   "metadata": {
    "slideshow": {
     "slide_type": "slide"
    }
   },
   "outputs": [],
   "source": [
    "from bokeh.layouts import layout\n",
    "from bokeh.models import Div, RangeSlider, Spinner\n",
    "from bokeh.plotting import figure, show\n",
    "\n",
    "# prepare some data\n",
    "x = [1, 2, 3, 4, 5, 6, 7, 8, 9, 10]\n",
    "y = [4, 5, 5, 7, 2, 6, 4, 9, 1, 3]\n",
    "\n",
    "# create plot with circle glyphs\n",
    "p = figure(x_range=(1, 9), width=500, height=250)\n",
    "points = p.scatter(x=x, y=y, size=30, fill_color=\"#21a7df\")\n",
    "\n",
    "# set up textarea (div)\n",
    "div = Div(\n",
    "    text=\"\"\"\n",
    "          <p>Select the circle's size using this control element:</p>\n",
    "          \"\"\",\n",
    "    width=200,\n",
    "    height=30,\n",
    ")\n",
    "\n",
    "# set up spinner\n",
    "spinner = Spinner(\n",
    "    title=\"Circle size\",\n",
    "    low=0,\n",
    "    high=60,\n",
    "    step=5,\n",
    "    value=points.glyph.size,\n",
    "    width=200,\n",
    ")\n",
    "spinner.js_link(\"value\", points.glyph, \"size\")\n",
    "\n",
    "# set up RangeSlider\n",
    "range_slider = RangeSlider(\n",
    "    title=\"Adjust x-axis range\",\n",
    "    start=0,\n",
    "    end=10,\n",
    "    step=1,\n",
    "    value=(p.x_range.start, p.x_range.end),\n",
    ")\n",
    "range_slider.js_link(\"value\", p.x_range, \"start\", attr_selector=0)\n",
    "range_slider.js_link(\"value\", p.x_range, \"end\", attr_selector=1)\n",
    "\n",
    "# create layout\n",
    "layout = layout(\n",
    "    [\n",
    "        [div, spinner],\n",
    "        [range_slider],\n",
    "        [p],\n",
    "    ],\n",
    ")\n",
    "\n",
    "# show result\n",
    "show(layout)"
   ]
  },
  {
   "cell_type": "markdown",
   "id": "151921d0",
   "metadata": {
    "slideshow": {
     "slide_type": "slide"
    }
   },
   "source": [
    "### 在 Bokeh 服务器中使用部件"
   ]
  },
  {
   "cell_type": "markdown",
   "id": "20d159f6",
   "metadata": {
    "slideshow": {
     "slide_type": "slide"
    }
   },
   "source": [
    "**在命令行中使用此命令可在服务器模式下启动 Bokeh：**\n",
    ">bokeh serve"
   ]
  },
  {
   "cell_type": "markdown",
   "id": "24036628",
   "metadata": {
    "slideshow": {
     "slide_type": "slide"
    }
   },
   "source": [
    "## 其他可视化示例"
   ]
  },
  {
   "cell_type": "markdown",
   "id": "ee4315ab",
   "metadata": {
    "slideshow": {
     "slide_type": "slide"
    }
   },
   "source": [
    "### 多种配色散点图"
   ]
  },
  {
   "cell_type": "code",
   "execution_count": 54,
   "id": "cf6448cb",
   "metadata": {
    "slideshow": {
     "slide_type": "slide"
    }
   },
   "outputs": [],
   "source": [
    "from bokeh.plotting import figure, show\n",
    "from bokeh.sampledata.penguins import data\n",
    "from bokeh.transform import factor_cmap, factor_mark\n",
    "\n",
    "SPECIES = sorted(data.species.unique())\n",
    "MARKERS = ['hex', 'circle_x', 'triangle']\n",
    "\n",
    "p = figure(title = \"Penguin size\", background_fill_color=\"#fafafa\")\n",
    "p.xaxis.axis_label = 'Flipper Length (mm)'\n",
    "p.yaxis.axis_label = 'Body Mass (g)'\n",
    "\n",
    "p.scatter(\"flipper_length_mm\", \"body_mass_g\", source=data,\n",
    "          legend_group=\"species\", fill_alpha=0.4, size=12,\n",
    "          marker=factor_mark('species', MARKERS, SPECIES),\n",
    "          color=factor_cmap('species', 'Category10_3', SPECIES))\n",
    "\n",
    "p.legend.location = \"top_left\"\n",
    "p.legend.title = \"Species\"\n",
    "\n",
    "show(p)"
   ]
  },
  {
   "cell_type": "markdown",
   "id": "aedc200c",
   "metadata": {
    "slideshow": {
     "slide_type": "slide"
    }
   },
   "source": [
    "### 条形图"
   ]
  },
  {
   "cell_type": "code",
   "execution_count": 55,
   "id": "961f0f39",
   "metadata": {
    "slideshow": {
     "slide_type": "slide"
    }
   },
   "outputs": [],
   "source": [
    "from bokeh.models import ColumnDataSource, FactorRange\n",
    "from bokeh.palettes import MediumContrast3\n",
    "from bokeh.plotting import figure, show\n",
    "from bokeh.transform import factor_cmap\n",
    "\n",
    "fruits = ['Apples', 'Pears', 'Nectarines', 'Plums', 'Grapes', 'Strawberries']\n",
    "years = ['2015', '2016', '2017']\n",
    "\n",
    "data = {'fruits' : fruits,\n",
    "        '2015'   : [2, 1, 4, 3, 2, 4],\n",
    "        '2016'   : [5, 3, 3, 2, 4, 6],\n",
    "        '2017'   : [3, 2, 4, 4, 5, 3]}\n",
    "\n",
    "# this creates [ (\"Apples\", \"2015\"), (\"Apples\", \"2016\"), (\"Apples\", \"2017\"), (\"Pears\", \"2015), ... ]\n",
    "x = [ (fruit, year) for fruit in fruits for year in years ]\n",
    "counts = sum(zip(data['2015'], data['2016'], data['2017']), ()) # like an hstack\n",
    "\n",
    "source = ColumnDataSource(data=dict(x=x, counts=counts))\n",
    "\n",
    "p = figure(x_range=FactorRange(*x), height=350, title=\"Fruit Counts by Year\",\n",
    "           toolbar_location=None, tools=\"\",output_backend=\"svg\")\n",
    "p.vbar(x='x', top='counts', width=0.9, source=source, line_color=\"white\",\n",
    "       fill_color=factor_cmap('x', palette=MediumContrast3, factors=years, start=1, end=2))\n",
    "\n",
    "p.y_range.start = 0\n",
    "p.x_range.range_padding = 0.1\n",
    "p.xaxis.major_label_orientation = 1\n",
    "p.xgrid.grid_line_color = None\n",
    "\n",
    "show(p)"
   ]
  },
  {
   "cell_type": "markdown",
   "id": "358267e6",
   "metadata": {
    "slideshow": {
     "slide_type": "slide"
    }
   },
   "source": [
    "### 分类热力图"
   ]
  },
  {
   "cell_type": "code",
   "execution_count": 56,
   "id": "52d1442e",
   "metadata": {
    "slideshow": {
     "slide_type": "slide"
    }
   },
   "outputs": [],
   "source": [
    "from math import pi\n",
    "\n",
    "import pandas as pd\n",
    "\n",
    "from bokeh.models import BasicTicker, PrintfTickFormatter\n",
    "from bokeh.plotting import figure, show\n",
    "from bokeh.sampledata.unemployment1948 import data\n",
    "from bokeh.transform import linear_cmap\n",
    "\n",
    "data['Year'] = data['Year'].astype(str)\n",
    "data = data.set_index('Year')\n",
    "data.drop('Annual', axis=1, inplace=True)\n",
    "data.columns.name = 'Month'\n",
    "\n",
    "years = list(data.index)\n",
    "months = list(reversed(data.columns))\n",
    "\n",
    "# reshape to 1D array or rates with a month and year for each row.\n",
    "df = pd.DataFrame(data.stack(), columns=['rate']).reset_index()\n",
    "\n",
    "# this is the colormap from the original NYTimes plot\n",
    "colors = [\"#75968f\", \"#a5bab7\", \"#c9d9d3\", \"#e2e2e2\", \"#dfccce\", \"#ddb7b1\", \"#cc7878\", \"#933b41\", \"#550b1d\"]\n",
    "\n",
    "TOOLS = \"hover,save,pan,box_zoom,reset,wheel_zoom\"\n",
    "\n",
    "p = figure(title=f\"US Unemployment ({years[0]} - {years[-1]})\",\n",
    "           x_range=years, y_range=months,\n",
    "           x_axis_location=\"above\", width=900, height=400,\n",
    "           tools=TOOLS, toolbar_location='below',\n",
    "           tooltips=[('date', '@Month @Year'), ('rate', '@rate%')])\n",
    "\n",
    "p.grid.grid_line_color = None\n",
    "p.axis.axis_line_color = None\n",
    "p.axis.major_tick_line_color = None\n",
    "p.axis.major_label_text_font_size = \"7px\"\n",
    "p.axis.major_label_standoff = 0\n",
    "p.xaxis.major_label_orientation = pi / 3\n",
    "\n",
    "r = p.rect(x=\"Year\", y=\"Month\", width=1, height=1, source=df,\n",
    "           fill_color=linear_cmap(\"rate\", colors, low=df.rate.min(), high=df.rate.max()),\n",
    "           line_color=None)\n",
    "\n",
    "p.add_layout(r.construct_color_bar(\n",
    "    major_label_text_font_size=\"7px\",\n",
    "    ticker=BasicTicker(desired_num_ticks=len(colors)),\n",
    "    formatter=PrintfTickFormatter(format=\"%d%%\"),\n",
    "    label_standoff=6,\n",
    "    border_line_color=None,\n",
    "    padding=5,\n",
    "), 'right')\n",
    "\n",
    "show(p)"
   ]
  },
  {
   "cell_type": "markdown",
   "id": "485d10e3",
   "metadata": {
    "slideshow": {
     "slide_type": "slide"
    }
   },
   "source": [
    "### 元素周期表"
   ]
  },
  {
   "cell_type": "code",
   "execution_count": 57,
   "id": "44ad1585",
   "metadata": {
    "slideshow": {
     "slide_type": "slide"
    }
   },
   "outputs": [],
   "source": [
    "from bokeh.plotting import figure, show\n",
    "from bokeh.sampledata.periodic_table import elements\n",
    "from bokeh.transform import dodge, factor_cmap\n",
    "\n",
    "periods = [\"I\", \"II\", \"III\", \"IV\", \"V\", \"VI\", \"VII\"]\n",
    "groups = [str(x) for x in range(1, 19)]\n",
    "\n",
    "df = elements.copy()\n",
    "df[\"atomic mass\"] = df[\"atomic mass\"].astype(str)\n",
    "df[\"group\"] = df[\"group\"].astype(str)\n",
    "df[\"period\"] = [periods[x-1] for x in df.period]\n",
    "df = df[df.group != \"-\"]\n",
    "df = df[df.symbol != \"Lr\"]\n",
    "df = df[df.symbol != \"Lu\"]\n",
    "\n",
    "cmap = {\n",
    "    \"alkali metal\"         : \"#a6cee3\",\n",
    "    \"alkaline earth metal\" : \"#1f78b4\",\n",
    "    \"metal\"                : \"#d93b43\",\n",
    "    \"halogen\"              : \"#999d9a\",\n",
    "    \"metalloid\"            : \"#e08d49\",\n",
    "    \"noble gas\"            : \"#eaeaea\",\n",
    "    \"nonmetal\"             : \"#f1d4Af\",\n",
    "    \"transition metal\"     : \"#599d7A\",\n",
    "}\n",
    "\n",
    "TOOLTIPS = [\n",
    "    (\"Name\", \"@name\"),\n",
    "    (\"Atomic number\", \"@{atomic number}\"),\n",
    "    (\"Atomic mass\", \"@{atomic mass}\"),\n",
    "    (\"Type\", \"@metal\"),\n",
    "    (\"CPK color\", \"$color[hex, swatch]:CPK\"),\n",
    "    (\"Electronic configuration\", \"@{electronic configuration}\"),\n",
    "]\n",
    "\n",
    "p = figure(title=\"Periodic Table (omitting LA and AC Series)\", width=1000, height=450,\n",
    "           x_range=groups, y_range=list(reversed(periods)),\n",
    "           tools=\"hover\", toolbar_location=None, tooltips=TOOLTIPS)\n",
    "\n",
    "r = p.rect(\"group\", \"period\", 0.95, 0.95, source=df, fill_alpha=0.6, legend_field=\"metal\",\n",
    "           color=factor_cmap('metal', palette=list(cmap.values()), factors=list(cmap.keys())))\n",
    "\n",
    "text_props = dict(source=df, text_align=\"left\", text_baseline=\"middle\")\n",
    "\n",
    "x = dodge(\"group\", -0.4, range=p.x_range)\n",
    "\n",
    "p.text(x=x, y=\"period\", text=\"symbol\", text_font_style=\"bold\", **text_props)\n",
    "\n",
    "p.text(x=x, y=dodge(\"period\", 0.3, range=p.y_range), text=\"atomic number\",\n",
    "       text_font_size=\"11px\", **text_props)\n",
    "\n",
    "p.text(x=x, y=dodge(\"period\", -0.35, range=p.y_range), text=\"name\",\n",
    "       text_font_size=\"7px\", **text_props)\n",
    "\n",
    "p.text(x=x, y=dodge(\"period\", -0.2, range=p.y_range), text=\"atomic mass\",\n",
    "       text_font_size=\"7px\", **text_props)\n",
    "\n",
    "p.text(x=[\"3\", \"3\"], y=[\"VI\", \"VII\"], text=[\"LA\", \"AC\"], text_align=\"center\", text_baseline=\"middle\")\n",
    "\n",
    "p.outline_line_color = None\n",
    "p.grid.grid_line_color = None\n",
    "p.axis.axis_line_color = None\n",
    "p.axis.major_tick_line_color = None\n",
    "p.axis.major_label_standoff = 0\n",
    "p.legend.orientation = \"horizontal\"\n",
    "p.legend.location =\"top_center\"\n",
    "p.hover.renderers = [r] # only hover element boxes\n",
    "\n",
    "show(p)"
   ]
  },
  {
   "cell_type": "markdown",
   "id": "63d665fd",
   "metadata": {
    "slideshow": {
     "slide_type": "slide"
    }
   },
   "source": [
    "### 饼图"
   ]
  },
  {
   "cell_type": "code",
   "execution_count": 58,
   "id": "445a00b5",
   "metadata": {
    "slideshow": {
     "slide_type": "slide"
    }
   },
   "outputs": [],
   "source": [
    "from math import pi\n",
    "\n",
    "from bokeh.io import show\n",
    "from bokeh.models import (AnnularWedge, ColumnDataSource,\n",
    "                          Legend, LegendItem, Plot, Range1d)\n",
    "from bokeh.sampledata.browsers import browsers_nov_2013 as df\n",
    "\n",
    "xdr = Range1d(start=-2, end=2)\n",
    "ydr = Range1d(start=-2, end=2)\n",
    "\n",
    "plot = Plot(x_range=xdr, y_range=ydr)\n",
    "plot.title.text = \"Web browser market share (November 2013)\"\n",
    "plot.toolbar_location = None\n",
    "\n",
    "colors = {\n",
    "    \"Chrome\": \"seagreen\",\n",
    "    \"Firefox\": \"tomato\",\n",
    "    \"Safari\": \"orchid\",\n",
    "    \"Opera\": \"firebrick\",\n",
    "    \"IE\": \"skyblue\",\n",
    "    \"Other\": \"lightgray\",\n",
    "}\n",
    "\n",
    "aggregated = df.groupby(\"Browser\").sum(numeric_only=True)\n",
    "selected = aggregated[aggregated.Share >= 1].copy()\n",
    "selected.loc[\"Other\"] = aggregated[aggregated.Share < 1].sum()\n",
    "browsers = selected.index.tolist()\n",
    "\n",
    "angles = selected.Share.map(lambda x: 2*pi*(x/100)).cumsum().tolist()\n",
    "\n",
    "browsers_source = ColumnDataSource(dict(\n",
    "    start  = [0] + angles[:-1],\n",
    "    end    = angles,\n",
    "    colors = [colors[browser] for browser in browsers],\n",
    "))\n",
    "\n",
    "glyph = AnnularWedge(x=0, y=0, inner_radius=0.9, outer_radius=1.8,\n",
    "                     start_angle=\"start\", end_angle=\"end\",\n",
    "                     line_color=\"white\", line_width=3, fill_color=\"colors\")\n",
    "r= plot.add_glyph(browsers_source, glyph)\n",
    "\n",
    "legend = Legend(location=\"center\")\n",
    "for i, name in enumerate(colors):\n",
    "    legend.items.append(LegendItem(label=name, renderers=[r], index=i))\n",
    "plot.add_layout(legend, \"center\")\n",
    "\n",
    "show(plot)"
   ]
  },
  {
   "cell_type": "markdown",
   "id": "d6f32add",
   "metadata": {
    "slideshow": {
     "slide_type": "slide"
    }
   },
   "source": [
    "### 饼图与柱状图合成"
   ]
  },
  {
   "cell_type": "code",
   "execution_count": 59,
   "id": "9f43c629",
   "metadata": {
    "slideshow": {
     "slide_type": "slide"
    }
   },
   "outputs": [],
   "source": [
    "from numpy import arange, array, cos, log, pi, sin, sqrt\n",
    "\n",
    "from bokeh.models import ColumnDataSource, Legend, LegendItem\n",
    "from bokeh.plotting import figure, show\n",
    "from bokeh.sampledata.antibiotics import data as df\n",
    "\n",
    "DRUGS = (\"penicillin\", \"streptomycin\", \"neomycin\")\n",
    "COLORS = (\"#0d3362\", \"#c64737\", \"#000000\")\n",
    "GRAM = dict([\n",
    "    (\"negative\", \"#e69584\"),\n",
    "    (\"positive\", \"#aeaeb8\"),\n",
    "])\n",
    "\n",
    "big_angle = 2 * pi / (len(df) + 1)\n",
    "angles = pi/2 - 3*big_angle/2 - array(df.index) * big_angle\n",
    "\n",
    "df[\"start\"] = angles\n",
    "df[\"end\"] = angles + big_angle\n",
    "df[\"colors\"] = [GRAM[gram] for gram in df.gram]\n",
    "\n",
    "source = ColumnDataSource(df)\n",
    "\n",
    "# Burtin's unusual inverted radial sqrt-log scale\n",
    "micmin = sqrt(log(.001*1E4))\n",
    "micmax = sqrt(log(1000*1E4))\n",
    "def scale(mic):\n",
    "    return - sqrt(log(mic * 1E4)) + (micmin + micmax)\n",
    "\n",
    "p = figure(\n",
    "    width=800, height=800, title=None, tools=\"\", toolbar_location=None,\n",
    "    x_axis_type=None, y_axis_type=None, match_aspect=True,\n",
    "    min_border=0, outline_line_color=\"black\", background_fill_color=\"#f0e1d2\",\n",
    ")\n",
    "\n",
    "# large wedges for bacteria\n",
    "br = p.annular_wedge(0, 0, micmax, micmin, \"start\", \"end\", fill_color=\"colors\", line_color=\"#f0e1d2\", source=source)\n",
    "\n",
    "# circular axes and labels\n",
    "radii = scale(10.0 ** arange(-3, 4))\n",
    "p.circle(0, 0, radius=radii, fill_color=None, line_color=\"#f0e1d2\")\n",
    "p.text(\n",
    "    0, radii, [\"0.001\", \"0.01\", \"0.1\", \"1\", \"10\", \"100\", \"1000\"],\n",
    "    text_font_size=\"12px\", anchor=\"center\",\n",
    ")\n",
    "\n",
    "# small wedges for drugs\n",
    "small_angle = big_angle / 7\n",
    "for i, drug in enumerate(DRUGS):\n",
    "    start = angles+(5-2*i)*small_angle\n",
    "    end = angles+(6-2*i)*small_angle\n",
    "    p.annular_wedge(\n",
    "        0, 0, micmin, scale(df[drug]), start, end,\n",
    "        color=COLORS[i], line_color=None, legend_label=drug,\n",
    "    )\n",
    "\n",
    "# bacteria labels\n",
    "r = radii[0] * 1.1\n",
    "xr = r * cos(angles + big_angle/2)\n",
    "yr = r * sin(angles + big_angle/2)\n",
    "p.text(\n",
    "    xr, yr, [\"\\n\".join(x.split()) for x in df.bacteria],\n",
    "    text_font_size=\"13px\", anchor=\"center\",\n",
    ")\n",
    "\n",
    "p.legend.location = \"center\"\n",
    "p.legend.background_fill_alpha = 0\n",
    "p.legend.glyph_width = 45\n",
    "p.legend.glyph_height = 20\n",
    "\n",
    "p.x_range.range_padding = 0.2\n",
    "p.y_range.range_padding = 0.2\n",
    "\n",
    "p.grid.grid_line_color = None\n",
    "\n",
    "legend = Legend(items=[\n",
    "    LegendItem(label=\"Gram-positive\", renderers=[br], index=10),\n",
    "    LegendItem(label=\"Gram-negative\", renderers=[br], index=0),\n",
    "], location=\"bottom\", orientation=\"horizontal\", background_fill_alpha=0)\n",
    "p.add_layout(legend, 'center')\n",
    "\n",
    "show(p)"
   ]
  },
  {
   "cell_type": "markdown",
   "id": "2c323768",
   "metadata": {
    "slideshow": {
     "slide_type": "slide"
    }
   },
   "source": [
    "### 显示每种标记类型的散点图"
   ]
  },
  {
   "cell_type": "code",
   "execution_count": 60,
   "id": "b42ecf87",
   "metadata": {
    "slideshow": {
     "slide_type": "slide"
    }
   },
   "outputs": [],
   "source": [
    "\n",
    "from numpy.random import random  # 导入 numpy 的 random 函数，用于生成随机数据\n",
    "\n",
    "from bokeh.core.enums import MarkerType  # 从 Bokeh 的核心枚举中导入 MarkerType，它包含了所有可用的标记类型\n",
    "from bokeh.plotting import figure, show  # 从 bokeh.plotting 导入 figure 和 show，用于创建和显示图形\n",
    "\n",
    "p = figure(title=\"Bokeh Markers\", toolbar_location=None)  # 创建一个 Bokeh 绘图对象，设置标题，并隐藏工具栏\n",
    "p.grid.grid_line_color = None  # 将网格线颜色设置为 None，让画布更加干净\n",
    "p.background_fill_color = \"#eeeeee\"  # 设置背景填充颜色\n",
    "p.axis.visible = False  # 隐藏坐标轴，让注意力全部集中在标记上\n",
    "p.y_range.flipped = True  # 翻转 y 轴范围，使标记按照常规阅读习惯从上到下展示\n",
    "\n",
    "N = 10  # 定义每种标记类型要生成的点的数量\n",
    "\n",
    "# 遍历所有可用的标记类型，就像探索武林中的各种武功\n",
    "for i, marker in enumerate(MarkerType):\n",
    "    x = i % 4  # 计算 x 坐标，确保每行放置 4 个标记\n",
    "    y = (i // 4) * 4 + 1  # 计算 y 坐标，每种标记类型占据一行\n",
    "\n",
    "    # 使用 scatter 方法绘制每种标记，位置由随机生成的数据决定，同时设置标记的样式\n",
    "    p.scatter(random(N)+2*x, random(N)+y, marker=marker, size=14,\n",
    "              line_color=\"navy\", fill_color=\"orange\", alpha=0.5)\n",
    "\n",
    "    # 在每种标记下方添加文本，显示其类型\n",
    "    p.text(2*x+0.5, y+2.5, text=[marker],\n",
    "           text_color=\"firebrick\", text_align=\"center\", text_font_size=\"13px\")\n",
    "\n",
    "show(p)  # 显示图形，就像展开一幅描绘了武林各派秘籍的宝图"
   ]
  },
  {
   "cell_type": "markdown",
   "id": "cdf20fdf",
   "metadata": {
    "slideshow": {
     "slide_type": "slide"
    }
   },
   "source": [
    "### 网络图"
   ]
  },
  {
   "cell_type": "code",
   "execution_count": 61,
   "id": "501ce98e",
   "metadata": {
    "slideshow": {
     "slide_type": "slide"
    }
   },
   "outputs": [],
   "source": [
    "from bokeh.plotting import figure, show, from_networkx\n",
    "import networkx as nx\n",
    "\n",
    "# 创建一个简单的网络图\n",
    "G = nx.Graph()\n",
    "G.add_nodes_from([1, 2, 3, 4, 5])\n",
    "G.add_edges_from([(1, 2), (1, 3), (2, 4), (3, 5)])\n",
    "\n",
    "# 使用 NetworkX 的 spring_layout 布局算法计算节点位置\n",
    "pos = nx.spring_layout(G)\n",
    "\n",
    "# 创建 Bokeh 图表\n",
    "plot = figure(title=\"网络图示例\", x_range=(-1.1, 1.1), y_range=(-1.1, 1.1))\n",
    "\n",
    "# 使用 from_networkx 函数将 NetworkX 图转换为 Bokeh 图\n",
    "graph = from_networkx(G, pos, scale=1, center=(0, 0))\n",
    "\n",
    "# 设置节点和边的样式\n",
    "graph.node_renderer.glyph.size = 25\n",
    "graph.node_renderer.glyph.fill_color = \"skyblue\"\n",
    "graph.edge_renderer.glyph.line_width = 2\n",
    "\n",
    "# 将图添加到 Bokeh 图表\n",
    "plot.renderers.append(graph)\n",
    "\n",
    "# 显示图表\n",
    "show(plot)"
   ]
  },
  {
   "cell_type": "markdown",
   "id": "98c36b82",
   "metadata": {
    "slideshow": {
     "slide_type": "slide"
    }
   },
   "source": [
    "# 基于pyqtgraph的数据可视化"
   ]
  },
  {
   "cell_type": "markdown",
   "id": "8eeb102b",
   "metadata": {
    "slideshow": {
     "slide_type": "slide"
    }
   },
   "source": [
    "## pyqtgraph绘图介绍"
   ]
  },
  {
   "cell_type": "markdown",
   "id": "c282dee3",
   "metadata": {
    "slideshow": {
     "slide_type": "slide"
    }
   },
   "source": [
    "### pyqtgraph绘图简介"
   ]
  },
  {
   "cell_type": "markdown",
   "id": "4d4b3a60",
   "metadata": {
    "slideshow": {
     "slide_type": "slide"
    }
   },
   "source": [
    "+ pyqtgraph是纯Python图形GUI库，它是基于PyQT4和numpy的绘图库，其中PyQT4是一个跨平台框架，使用C ++编写，可以运行在所有的主流操作系统上。  \n",
    "+ 其中包括Unix、Windows、Mac。在PyQT4中包含许多工具和API，被广泛应用于许多行业，并涵盖了众多平台。尽管pyqtgraph完全用python编写，但内部由于使用了高速计算的numpy信号处理库以及Qt的GraphicsView框架。  \n",
    "+ 因此，它在大数据量的数字处理和快速显示方面有着巨大的优势，比较适合于需要快速绘图更新、视频或实时交互性的操作场合。"
   ]
  },
  {
   "cell_type": "markdown",
   "id": "1702fba2",
   "metadata": {
    "slideshow": {
     "slide_type": "slide"
    }
   },
   "source": [
    "**在Python3中的pyqtgraph绘图库或函数导入语句如下：**\n",
    ">import pyqtgraph as pg  \n",
    " import numpy as np"
   ]
  },
  {
   "cell_type": "markdown",
   "id": "0a9a59cb",
   "metadata": {
    "slideshow": {
     "slide_type": "slide"
    }
   },
   "source": [
    "## pyqtgraph绘图方法"
   ]
  },
  {
   "cell_type": "markdown",
   "id": "2f2bb05b",
   "metadata": {
    "slideshow": {
     "slide_type": "slide"
    }
   },
   "source": [
    "### pyqtgraph绘制折线图"
   ]
  },
  {
   "cell_type": "code",
   "execution_count": 2,
   "id": "fcf6eb02",
   "metadata": {
    "slideshow": {
     "slide_type": "slide"
    }
   },
   "outputs": [
    {
     "data": {
      "text/plain": [
       "<pyqtgraph.widgets.PlotWidget.PlotWidget at 0x125dceb10>"
      ]
     },
     "execution_count": 2,
     "metadata": {},
     "output_type": "execute_result"
    }
   ],
   "source": [
    "import pyqtgraph as pg\n",
    "pg.plot([2,5,4,1,3])\n"
   ]
  },
  {
   "cell_type": "markdown",
   "id": "3e6ff6cc",
   "metadata": {
    "slideshow": {
     "slide_type": "slide"
    }
   },
   "source": [
    "### 使用自定义方式来绘制pyqtgraph折线图"
   ]
  },
  {
   "cell_type": "code",
   "execution_count": 3,
   "id": "6236749f",
   "metadata": {
    "slideshow": {
     "slide_type": "slide"
    }
   },
   "outputs": [
    {
     "data": {
      "text/plain": [
       "<pyqtgraph.widgets.PlotWidget.PlotWidget at 0x125df6c30>"
      ]
     },
     "execution_count": 3,
     "metadata": {},
     "output_type": "execute_result"
    }
   ],
   "source": [
    "import pyqtgraph as pg\n",
    "pg.setConfigOption('background', 'w')\n",
    "pg.setConfigOption('foreground', 'r')\n",
    "pg.plot([1,4,2,3,5])\n"
   ]
  },
  {
   "cell_type": "markdown",
   "id": "4c884b12",
   "metadata": {
    "slideshow": {
     "slide_type": "slide"
    }
   },
   "source": [
    "### 使用函数创建图形"
   ]
  },
  {
   "cell_type": "code",
   "execution_count": 62,
   "id": "83fc555a",
   "metadata": {
    "slideshow": {
     "slide_type": "slide"
    }
   },
   "outputs": [
    {
     "data": {
      "text/plain": [
       "0"
      ]
     },
     "execution_count": 62,
     "metadata": {},
     "output_type": "execute_result"
    }
   ],
   "source": [
    "import pyqtgraph as pg\n",
    "import numpy as np\n",
    "app=pg.mkQApp()\n",
    "x=np.random.random(10)\n",
    "pg.plot(x)\n",
    "app.exec_()  \n"
   ]
  }
 ],
 "metadata": {
  "celltoolbar": "Slideshow",
  "kernelspec": {
   "display_name": "Python 3 (ipykernel)",
   "language": "python",
   "name": "python3"
  },
  "language_info": {
   "codemirror_mode": {
    "name": "ipython",
    "version": 3
   },
   "file_extension": ".py",
   "mimetype": "text/x-python",
   "name": "python",
   "nbconvert_exporter": "python",
   "pygments_lexer": "ipython3",
   "version": "3.12.2"
  },
  "toc": {
   "base_numbering": 1,
   "nav_menu": {},
   "number_sections": true,
   "sideBar": true,
   "skip_h1_title": false,
   "title_cell": "Table of Contents",
   "title_sidebar": "Contents",
   "toc_cell": false,
   "toc_position": {},
   "toc_section_display": true,
   "toc_window_display": false
  }
 },
 "nbformat": 4,
 "nbformat_minor": 5
}
